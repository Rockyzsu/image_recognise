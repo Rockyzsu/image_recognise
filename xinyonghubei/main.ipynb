{
 "cells": [
  {
   "cell_type": "code",
   "execution_count": null,
   "metadata": {},
   "outputs": [],
   "source": [
    "import requests\n",
    "import os\n",
    "import time\n",
    "os.chdir('data')\n",
    "header={'User-Agent':'FireFox android'}\n",
    "img_url = 'http://www.hbcredit.gov.cn/credithb/public/validata.jpg?codeType=gkgssearch_left&r=0.8530701724309786'\n",
    "for i in range(914,10000):\n",
    "    r = requests.get(img_url,headers=header)\n",
    "    with open('{}.jpg'.format(i),'wb') as f:\n",
    "        f.write(r.content)\n",
    "#         time.sleep(1)"
   ]
  },
  {
   "cell_type": "code",
   "execution_count": 28,
   "metadata": {},
   "outputs": [],
   "source": [
    "from PIL import Image\n",
    "import os\n",
    "import time\n",
    "# os.chdir('data')\n",
    "import matplotlib\n",
    "%matplotlib inline\n",
    "import matplotlib.pyplot as plt\n",
    "import numpy as np\n",
    "import cv2\n",
    "import re"
   ]
  },
  {
   "cell_type": "code",
   "execution_count": null,
   "metadata": {},
   "outputs": [],
   "source": [
    "im = Image.open('2.jpg')"
   ]
  },
  {
   "cell_type": "code",
   "execution_count": null,
   "metadata": {
    "scrolled": true
   },
   "outputs": [],
   "source": [
    "plt.imshow(im)"
   ]
  },
  {
   "cell_type": "code",
   "execution_count": null,
   "metadata": {},
   "outputs": [],
   "source": []
  },
  {
   "cell_type": "code",
   "execution_count": null,
   "metadata": {},
   "outputs": [],
   "source": [
    "im=im.convert('L')"
   ]
  },
  {
   "cell_type": "code",
   "execution_count": null,
   "metadata": {},
   "outputs": [],
   "source": [
    "np_im =np.array(im)"
   ]
  },
  {
   "cell_type": "code",
   "execution_count": null,
   "metadata": {},
   "outputs": [],
   "source": [
    "np_im.shape"
   ]
  },
  {
   "cell_type": "code",
   "execution_count": null,
   "metadata": {},
   "outputs": [],
   "source": [
    "np_im[0][0]"
   ]
  },
  {
   "cell_type": "code",
   "execution_count": null,
   "metadata": {},
   "outputs": [],
   "source": [
    "ret2,th2 = cv2.threshold(np_im,127,255,cv2.THRESH_BINARY)"
   ]
  },
  {
   "cell_type": "code",
   "execution_count": null,
   "metadata": {},
   "outputs": [],
   "source": [
    "plt.imshow(th2)"
   ]
  },
  {
   "cell_type": "code",
   "execution_count": null,
   "metadata": {},
   "outputs": [],
   "source": []
  },
  {
   "cell_type": "code",
   "execution_count": null,
   "metadata": {},
   "outputs": [],
   "source": [
    "(new_img,contours,hiera)=cv2.findContours(th2,cv2.RETR_TREE,cv2.CHAIN_APPROX_SIMPLE)"
   ]
  },
  {
   "cell_type": "code",
   "execution_count": null,
   "metadata": {},
   "outputs": [],
   "source": [
    "w1,h1=im.size"
   ]
  },
  {
   "cell_type": "code",
   "execution_count": null,
   "metadata": {
    "scrolled": true
   },
   "outputs": [],
   "source": [
    "cnts=[]\n",
    "\n",
    "for idx,c in enumerate(contours):\n",
    "    (x,y,w,h)=cv2.boundingRect(c)\n",
    "#     print(x,y,w,h)\n",
    "    if w>5 and w<25:\n",
    "        cnts.append(th2[0:h1,x-1:x+w+1])"
   ]
  },
  {
   "cell_type": "code",
   "execution_count": null,
   "metadata": {},
   "outputs": [],
   "source": [
    "len(cnts)"
   ]
  },
  {
   "cell_type": "code",
   "execution_count": null,
   "metadata": {},
   "outputs": [],
   "source": [
    "# cnts = sorted([(c,cv2.boundingRect(c)[0]) for c in contours],key=lambda x:x[1])"
   ]
  },
  {
   "cell_type": "code",
   "execution_count": null,
   "metadata": {},
   "outputs": [],
   "source": [
    "ret=[]\n",
    "for (c,_) in cnts:\n",
    "    (x,y,w,h)=cv2.boundingRect(c)\n",
    "#     print(x,y,w,h)\n",
    "    if w>5 and w<25:\n",
    "        cnts.append(th2[y-1:y+h+1,x-1:x+w+1])"
   ]
  },
  {
   "cell_type": "code",
   "execution_count": null,
   "metadata": {},
   "outputs": [],
   "source": [
    "plt.imshow(cnts[4])"
   ]
  },
  {
   "cell_type": "code",
   "execution_count": null,
   "metadata": {},
   "outputs": [],
   "source": []
  },
  {
   "cell_type": "code",
   "execution_count": null,
   "metadata": {},
   "outputs": [],
   "source": []
  },
  {
   "cell_type": "code",
   "execution_count": null,
   "metadata": {},
   "outputs": [],
   "source": [
    "s =cv2.findContours(th2,cv2.RETR_TREE,cv2.CHAIN_APPROX_SIMPLE)"
   ]
  },
  {
   "cell_type": "code",
   "execution_count": null,
   "metadata": {
    "scrolled": true
   },
   "outputs": [],
   "source": []
  },
  {
   "cell_type": "code",
   "execution_count": null,
   "metadata": {},
   "outputs": [],
   "source": [
    "# 识别\n",
    "import os\n",
    "import time\n",
    "os.chdir('train')"
   ]
  },
  {
   "cell_type": "code",
   "execution_count": null,
   "metadata": {},
   "outputs": [],
   "source": [
    "path=os.getcwd()"
   ]
  },
  {
   "cell_type": "code",
   "execution_count": null,
   "metadata": {},
   "outputs": [],
   "source": [
    "data=[]\n",
    "lable=[]\n",
    "\n",
    "for file in os.listdir('.'):\n",
    "    im = Image.open(file).convert('L')\n",
    "    np_im = np.array(im)\n",
    "    ret2,th2 = cv2.threshold(np_im,200,255,cv2.THRESH_BINARY)\n",
    "    if re.search('-',file):\n",
    "        lb = file.split('-')[0]\n",
    "    else:\n",
    "        lb=file.split('.')[0]\n",
    "\n",
    "        \n",
    "    lable.append(lb)\n",
    "    data.append(th2)"
   ]
  },
  {
   "cell_type": "code",
   "execution_count": null,
   "metadata": {
    "scrolled": true
   },
   "outputs": [],
   "source": [
    "len(data)"
   ]
  },
  {
   "cell_type": "code",
   "execution_count": null,
   "metadata": {
    "scrolled": true
   },
   "outputs": [],
   "source": [
    "plt.imshow(data[0])"
   ]
  },
  {
   "cell_type": "code",
   "execution_count": null,
   "metadata": {},
   "outputs": [],
   "source": [
    "data[0]"
   ]
  },
  {
   "cell_type": "code",
   "execution_count": null,
   "metadata": {},
   "outputs": [],
   "source": [
    "np_dataset = np.array(data)"
   ]
  },
  {
   "cell_type": "code",
   "execution_count": null,
   "metadata": {},
   "outputs": [],
   "source": [
    "np_dataset.shape"
   ]
  },
  {
   "cell_type": "code",
   "execution_count": null,
   "metadata": {},
   "outputs": [],
   "source": [
    "np_labels=np.array(lable)"
   ]
  },
  {
   "cell_type": "code",
   "execution_count": null,
   "metadata": {},
   "outputs": [],
   "source": [
    "X=np_dataset.copy()"
   ]
  },
  {
   "cell_type": "code",
   "execution_count": null,
   "metadata": {},
   "outputs": [],
   "source": [
    "y=np_labels.copy()"
   ]
  },
  {
   "cell_type": "code",
   "execution_count": null,
   "metadata": {},
   "outputs": [],
   "source": [
    "from sklearn.cross_validation import train_test_split\n",
    "from keras.utils import np_utils\n",
    "from keras.models import Sequential\n",
    "from keras.layers import Dense,Dropout,Flatten,Conv2D,MaxPooling2D\n",
    "import pandas as pd\n",
    "from keras.models import load_model"
   ]
  },
  {
   "cell_type": "code",
   "execution_count": null,
   "metadata": {},
   "outputs": [],
   "source": [
    "X_train,X_test,y_train,y_test = train_test_split(X,y,test_size=0.2)\n",
    "X_train_4D = X_train.reshape(X_train.shape[0],85,35,1).astype('float32')\n",
    "X_test_4D = X_test.reshape(X_test.shape[0],85,35,1).astype('float32')\n",
    "X_train_4D_normal=X_train_4D/255\n",
    "X_test_4D_normal=X_test_4D/255\n",
    "y_train_onehot = np_utils.to_categorical(y_train)\n",
    "y_test_onehot = np_utils.to_categorical(y_test)"
   ]
  },
  {
   "cell_type": "code",
   "execution_count": null,
   "metadata": {},
   "outputs": [],
   "source": [
    "len(X_train)"
   ]
  },
  {
   "cell_type": "code",
   "execution_count": null,
   "metadata": {},
   "outputs": [],
   "source": [
    "len(y_train)"
   ]
  },
  {
   "cell_type": "code",
   "execution_count": null,
   "metadata": {},
   "outputs": [],
   "source": [
    "y_train[0]"
   ]
  },
  {
   "cell_type": "code",
   "execution_count": null,
   "metadata": {},
   "outputs": [],
   "source": [
    "y_train_onehot[0]"
   ]
  },
  {
   "cell_type": "code",
   "execution_count": null,
   "metadata": {},
   "outputs": [],
   "source": [
    "len(y_train_onehot[0])"
   ]
  },
  {
   "cell_type": "code",
   "execution_count": null,
   "metadata": {
    "scrolled": true
   },
   "outputs": [],
   "source": [
    "model = Sequential()\n",
    "model.add(\n",
    "   Conv2D(\n",
    "   filters=85,\n",
    "   kernel_size=(5,5),\n",
    "   padding='same',\n",
    "   input_shape=(85,35,1),\n",
    "   activation='relu',\n",
    "   )\n",
    ")\n",
    "\n",
    "model.add(\n",
    "MaxPooling2D(pool_size=(2,2))\n",
    ")\n",
    "\n",
    "model.add(\n",
    "Conv2D(\n",
    "filters=36,\n",
    "    kernel_size=(5,5),\n",
    "    padding='same',\n",
    "    activation='relu',\n",
    ")\n",
    ")\n",
    "\n",
    "model.add(\n",
    "MaxPooling2D(pool_size=(2,2))\n",
    ")\n",
    "\n",
    "model.add(Dropout(0.25))\n",
    "model.add(Flatten())\n",
    "\n",
    "model.add(\n",
    "Dense(\n",
    "128,activation='relu'\n",
    ")\n",
    ")\n",
    "\n",
    "model.add(Dropout(0.5))\n",
    "\n",
    "model.add(\n",
    "Dense(\n",
    "8888,\n",
    "    activation='softmax'\n",
    ")\n",
    ")\n",
    "\n",
    "model.summary()"
   ]
  },
  {
   "cell_type": "code",
   "execution_count": null,
   "metadata": {},
   "outputs": [],
   "source": [
    "model.compile(loss='categorical_crossentropy',\n",
    "             optimizer='adam',\n",
    "             metrics=['accuracy'])"
   ]
  },
  {
   "cell_type": "code",
   "execution_count": null,
   "metadata": {
    "scrolled": true
   },
   "outputs": [],
   "source": [
    "history_train = model.fit(x=X_train_4D_normal,\n",
    "                         y=y_train_onehot,\n",
    "                         validation_split=0.2,\n",
    "                          epochs=100,\n",
    "                          batch_size=50,\n",
    "                          verbose = 2,\n",
    "                         )"
   ]
  },
  {
   "cell_type": "code",
   "execution_count": 4,
   "metadata": {
    "scrolled": false
   },
   "outputs": [],
   "source": [
    "os.chdir('data')"
   ]
  },
  {
   "cell_type": "code",
   "execution_count": 5,
   "metadata": {
    "scrolled": true
   },
   "outputs": [],
   "source": [
    "# 图片重新切割\n",
    "img=cv2.imread('564.jpg')\n",
    "# cv2.show('1',img)\n",
    "img_grey=cv2.cvtColor(img,cv2.COLOR_BGR2GRAY)\n",
    "thresh,new_img = cv2.threshold(img_grey,200,255,0)"
   ]
  },
  {
   "cell_type": "code",
   "execution_count": 6,
   "metadata": {
    "scrolled": false
   },
   "outputs": [
    {
     "data": {
      "text/plain": [
       "<matplotlib.image.AxesImage at 0x11557cc0>"
      ]
     },
     "execution_count": 6,
     "metadata": {},
     "output_type": "execute_result"
    },
    {
     "data": {
      "image/png": "[encoded data removed]",
      "text/plain": [
       "<Figure size 432x288 with 1 Axes>"
      ]
     },
     "metadata": {},
     "output_type": "display_data"
    }
   ],
   "source": [
    "plt.imshow(new_img)"
   ]
  },
  {
   "cell_type": "code",
   "execution_count": 7,
   "metadata": {},
   "outputs": [],
   "source": [
    "im2, contours, hierarchy = cv2.findContours(new_img, cv2.RETR_EXTERNAL, cv2.CHAIN_APPROX_SIMPLE)\n"
   ]
  },
  {
   "cell_type": "code",
   "execution_count": 4,
   "metadata": {},
   "outputs": [],
   "source": [
    "def get_rect_box(contours):\n",
    "    ws = []\n",
    "    valid_contours = []\n",
    "    for contour in contours:\n",
    "        x, y, w, h = cv2.boundingRect(contour)\n",
    "        if w < 7:\n",
    "            continue\n",
    "        valid_contours.append(contour)\n",
    "        ws.append(w)\n",
    "\n",
    "    w_min = min(ws)\n",
    "    w_max = max(ws)\n",
    "\n",
    "    result = []\n",
    "    if len(valid_contours) == 4:\n",
    "        for contour in valid_contours:\n",
    "            x, y, w, h = cv2.boundingRect(contour)\n",
    "            box = np.int0([[x,y], [x+w,y], [x+w,y+h], [x,y+h]])\n",
    "            result.append(box)\n",
    "    elif len(valid_contours) == 3:\n",
    "        for contour in valid_contours:\n",
    "            x, y, w, h = cv2.boundingRect(contour)\n",
    "            if w == w_max:\n",
    "                box_left = np.int0([[x,y], [x+w/2,y], [x+w/2,y+h], [x,y+h]])\n",
    "                box_right = np.int0([[x+w/2,y], [x+w,y], [x+w,y+h], [x+w/2,y+h]])\n",
    "                result.append(box_left)\n",
    "                result.append(box_right)\n",
    "            else:\n",
    "                box = np.int0([[x,y], [x+w,y], [x+w,y+h], [x,y+h]])\n",
    "                result.append(box)\n",
    "    elif len(valid_contours) == 2:\n",
    "        for contour in valid_contours:\n",
    "            x, y, w, h = cv2.boundingRect(contour)\n",
    "            if w == w_max and w_max >= w_min * 2:\n",
    "                box_left = np.int0([[x,y], [x+w/3,y], [x+w/3,y+h], [x,y+h]])\n",
    "                box_mid = np.int0([[x+w/3,y], [x+w*2/3,y], [x+w*2/3,y+h], [x+w/3,y+h]])\n",
    "                box_right = np.int0([[x+w*2/3,y], [x+w,y], [x+w,y+h], [x+w*2/3,y+h]])\n",
    "                result.append(box_left)\n",
    "                result.append(box_mid)\n",
    "                result.append(box_right)\n",
    "            elif w_max < w_min * 2:\n",
    "                box_left = np.int0([[x,y], [x+w/2,y], [x+w/2,y+h], [x,y+h]])\n",
    "                box_right = np.int0([[x+w/2,y], [x+w,y], [x+w,y+h], [x+w/2,y+h]])\n",
    "                result.append(box_left)\n",
    "                result.append(box_right)\n",
    "            else:\n",
    "                box = np.int0([[x,y], [x+w,y], [x+w,y+h], [x,y+h]])\n",
    "                result.append(box)\n",
    "    elif len(valid_contours) == 1:\n",
    "        contour = valid_contours[0]\n",
    "        x, y, w, h = cv2.boundingRect(contour)\n",
    "        box0 = np.int0([[x,y], [x+w/4,y], [x+w/4,y+h], [x,y+h]])\n",
    "        box1 = np.int0([[x+w/4,y], [x+w*2/4,y], [x+w*2/4,y+h], [x+w/4,y+h]])\n",
    "        box2 = np.int0([[x+w*2/4,y], [x+w*3/4,y], [x+w*3/4,y+h], [x+w*2/4,y+h]])\n",
    "        box3 = np.int0([[x+w*3/4,y], [x+w,y], [x+w,y+h], [x+w*3/4,y+h]])\n",
    "        result.extend([box0, box1, box2, box3])\n",
    "    elif len(valid_contours) > 4:\n",
    "        for contour in valid_contours:\n",
    "            x, y, w, h = cv2.boundingRect(contour)\n",
    "            box = np.int0([[x,y], [x+w,y], [x+w,y+h], [x,y+h]])\n",
    "            result.append(box)\n",
    "    result = sorted(result, key=lambda x: x[0][0])\n",
    "    return result"
   ]
  },
  {
   "cell_type": "code",
   "execution_count": 50,
   "metadata": {},
   "outputs": [],
   "source": [
    "def read_file(filename):\n",
    "    label = re.findall('(\\d)',filename.split('\\\\')[-1])\n",
    "    if len(label) < 4:\n",
    "        return\n",
    "    im=cv2.imread(filename)\n",
    "    rows, cols, ch = im.shape\n",
    "    im_gray = cv2.cvtColor(im, cv2.COLOR_BGR2GRAY)\n",
    "    ret, im_inv = cv2.threshold(im_gray,220,255,cv2.THRESH_BINARY_INV)\n",
    "    new_im = cv2.GaussianBlur(im_inv,(3,3),0)\n",
    "    ret, im_inv = cv2.threshold(im_gray,220,255,cv2.THRESH_BINARY_INV)\n",
    "    im2, contours, hierarchy = cv2.findContours(im_inv, cv2.RETR_EXTERNAL, cv2.CHAIN_APPROX_SIMPLE)\n",
    "    boxes=get_rect_box(contours)\n",
    "    if len(boxes)!=4:\n",
    "        return\n",
    "    for index,box in enumerate(boxes):\n",
    "        roi = im_inv[:, box[0][0]:box[1][0]]\n",
    "        new_i=cv2.resize(roi,(20,35))\n",
    "        ret, new_i = cv2.threshold(new_i,1,255,cv2.THRESH_BINARY_INV)\n",
    "\n",
    "    #     plt.figure(figsize=(10,10))\n",
    "    #     plt.subplot(1,4,index+1)\n",
    "    #     plt.imshow(new_i)\n",
    "    #     t=time.time()\n",
    "        folder=os.path.join(base_dir,label[index])\n",
    "        file = os.path.join(folder,'{}.jpg'.format(int(time.time()*100)))\n",
    "        cv2.imwrite(file,new_i)"
   ]
  },
  {
   "cell_type": "code",
   "execution_count": 51,
   "metadata": {},
   "outputs": [],
   "source": [
    "import re\n",
    "import os\n",
    "# os.chdir('train')\n",
    "base_dir = r'E:\\git\\image_recognise\\xinyonghubei'\n",
    "train_folder = os.path.join(base_dir,'train')\n",
    "for filename in os.listdir(train_folder):\n",
    "#     print(filename)\n",
    "#     read_file(filename)\n",
    "    read_file(os.path.join(base_dir,'train',filename))\n",
    "#     print(filename)\n",
    "    "
   ]
  },
  {
   "cell_type": "code",
   "execution_count": 49,
   "metadata": {
    "scrolled": false
   },
   "outputs": [
    {
     "data": {
      "image/png": "[encoded data removed]",
      "text/plain": [
       "<Figure size 720x720 with 4 Axes>"
      ]
     },
     "metadata": {},
     "output_type": "display_data"
    }
   ],
   "source": [
    "filename=r'E:\\git\\image_recognise\\xinyonghubei\\train\\2268.jpg'\n",
    "label = re.findall('(\\d)',filename.split('\\\\')[-1])\n",
    "\n",
    "im=cv2.imread(filename)\n",
    "rows, cols, ch = im.shape\n",
    "im_gray = cv2.cvtColor(im, cv2.COLOR_BGR2GRAY)\n",
    "ret, im_inv = cv2.threshold(im_gray,220,255,cv2.THRESH_BINARY_INV)\n",
    "new_im = cv2.GaussianBlur(im_inv,(3,3),0)\n",
    "ret, im_inv = cv2.threshold(im_gray,220,255,cv2.THRESH_BINARY_INV)\n",
    "im2, contours, hierarchy = cv2.findContours(im_inv, cv2.RETR_EXTERNAL, cv2.CHAIN_APPROX_SIMPLE)\n",
    "boxes=get_rect_box(contours)\n",
    "# plt.figure(figsize=(10,10))\n",
    "\n",
    "for index,box in enumerate(boxes):\n",
    "    roi = im_inv[:, box[0][0]:box[1][0]]\n",
    "    new_i=cv2.resize(roi,(20,35))\n",
    "    ret, new_i = cv2.threshold(new_i,1,255,cv2.THRESH_BINARY_INV)\n",
    "\n",
    "#     plt.figure(figsize=(10,10))\n",
    "#     plt.subplot(1,4,index+1)\n",
    "#     plt.imshow(new_i)\n",
    "#     t=time.time()\n",
    "    folder=os.path.join(base_dir,label[index])\n",
    "    file = os.path.join(folder,'{}.jpg'.format(int(time.time()*100)))\n",
    "    cv2.imwrite(file,new_i)"
   ]
  },
  {
   "cell_type": "code",
   "execution_count": 309,
   "metadata": {},
   "outputs": [],
   "source": [
    "os.chdir(r'E:\\git\\image_recognise\\xinyonghubei\\sample')"
   ]
  },
  {
   "cell_type": "code",
   "execution_count": 310,
   "metadata": {},
   "outputs": [],
   "source": [
    "labels=os.listdir('.')"
   ]
  },
  {
   "cell_type": "code",
   "execution_count": 311,
   "metadata": {
    "scrolled": true
   },
   "outputs": [
    {
     "data": {
      "text/plain": [
       "['2', '3', '4', '5', '6', '7', '8']"
      ]
     },
     "execution_count": 311,
     "metadata": {},
     "output_type": "execute_result"
    }
   ],
   "source": [
    "labels"
   ]
  },
  {
   "cell_type": "code",
   "execution_count": 312,
   "metadata": {},
   "outputs": [],
   "source": [
    "datasets=[]\n",
    "labels=[]\n",
    "sample_size = 300\n",
    "path=r'E:\\git\\image_recognise\\xinyonghubei\\sample'\n",
    "for num in range(2,9):\n",
    "    full_path = os.path.join(path,str(num))\n",
    "    for file in os.listdir(full_path)[:sample_size]:\n",
    "        img_path = os.path.join(full_path,file)\n",
    "#         img=cv2.imread(img_path)\n",
    "        \n",
    "        img = Image.open(img_path).convert('L')\n",
    "        w,h=img.shape\n",
    "        pixels = list(img.getdata())\n",
    "#         bw_np_img = list(map(lambda x:1 if x>127 else 0,pixels))\n",
    "        datasets.append(pixels)\n",
    "        labels.append(num)"
   ]
  },
  {
   "cell_type": "code",
   "execution_count": 205,
   "metadata": {
    "scrolled": true
   },
   "outputs": [
    {
     "data": {
      "text/plain": [
       "910"
      ]
     },
     "execution_count": 205,
     "metadata": {},
     "output_type": "execute_result"
    }
   ],
   "source": [
    "len(datasets)"
   ]
  },
  {
   "cell_type": "code",
   "execution_count": 365,
   "metadata": {},
   "outputs": [
    {
     "data": {
      "text/plain": [
       "[255,\n",
       " 253,\n",
       " 255,\n",
       " 255,\n",
       " 253,\n",
       " 255,\n",
       " 255,\n",
       " 254,\n",
       " 255,\n",
       " 255,\n",
       " 255,\n",
       " 255,\n",
       " 255,\n",
       " 253,\n",
       " 255,\n",
       " 254,\n",
       " 255,\n",
       " 255,\n",
       " 251,\n",
       " 255,\n",
       " 255,\n",
       " 255,\n",
       " 254,\n",
       " 254,\n",
       " 255,\n",
       " 254,\n",
       " 254,\n",
       " 255,\n",
       " 2,\n",
       " 0,\n",
       " 1,\n",
       " 0,\n",
       " 1,\n",
       " 0,\n",
       " 2,\n",
       " 0,\n",
       " 255,\n",
       " 254,\n",
       " 255,\n",
       " 252,\n",
       " 255,\n",
       " 255,\n",
       " 253,\n",
       " 255,\n",
       " 254,\n",
       " 1,\n",
       " 0,\n",
       " 4,\n",
       " 0,\n",
       " 1,\n",
       " 3,\n",
       " 254,\n",
       " 0,\n",
       " 2,\n",
       " 0,\n",
       " 1,\n",
       " 0,\n",
       " 1,\n",
       " 3,\n",
       " 255,\n",
       " 253,\n",
       " 254,\n",
       " 255,\n",
       " 253,\n",
       " 0,\n",
       " 0,\n",
       " 1,\n",
       " 0,\n",
       " 255,\n",
       " 253,\n",
       " 255,\n",
       " 252,\n",
       " 255,\n",
       " 253,\n",
       " 255,\n",
       " 1,\n",
       " 2,\n",
       " 0,\n",
       " 0,\n",
       " 255,\n",
       " 255,\n",
       " 253,\n",
       " 0,\n",
       " 3,\n",
       " 0,\n",
       " 255,\n",
       " 255,\n",
       " 254,\n",
       " 255,\n",
       " 255,\n",
       " 255,\n",
       " 252,\n",
       " 254,\n",
       " 255,\n",
       " 255,\n",
       " 254,\n",
       " 1,\n",
       " 1,\n",
       " 0,\n",
       " 0,\n",
       " 255,\n",
       " 0,\n",
       " 1,\n",
       " 3,\n",
       " 0,\n",
       " 255,\n",
       " 253,\n",
       " 255,\n",
       " 254,\n",
       " 253,\n",
       " 255,\n",
       " 255,\n",
       " 253,\n",
       " 253,\n",
       " 254,\n",
       " 255,\n",
       " 0,\n",
       " 1,\n",
       " 2,\n",
       " 0,\n",
       " 252,\n",
       " 5,\n",
       " 0,\n",
       " 0,\n",
       " 1,\n",
       " 0,\n",
       " 255,\n",
       " 255,\n",
       " 255,\n",
       " 252,\n",
       " 255,\n",
       " 255,\n",
       " 255,\n",
       " 255,\n",
       " 254,\n",
       " 255,\n",
       " 0,\n",
       " 0,\n",
       " 0,\n",
       " 1,\n",
       " 255,\n",
       " 0,\n",
       " 1,\n",
       " 0,\n",
       " 0,\n",
       " 255,\n",
       " 253,\n",
       " 254,\n",
       " 255,\n",
       " 255,\n",
       " 255,\n",
       " 254,\n",
       " 255,\n",
       " 255,\n",
       " 255,\n",
       " 0,\n",
       " 0,\n",
       " 1,\n",
       " 0,\n",
       " 255,\n",
       " 255,\n",
       " 255,\n",
       " 255,\n",
       " 254,\n",
       " 255,\n",
       " 255,\n",
       " 254,\n",
       " 255,\n",
       " 255,\n",
       " 255,\n",
       " 255,\n",
       " 255,\n",
       " 254,\n",
       " 255,\n",
       " 254,\n",
       " 0,\n",
       " 0,\n",
       " 0,\n",
       " 1,\n",
       " 254,\n",
       " 253,\n",
       " 255,\n",
       " 252,\n",
       " 255,\n",
       " 252,\n",
       " 255,\n",
       " 255,\n",
       " 254,\n",
       " 252,\n",
       " 255,\n",
       " 255,\n",
       " 254,\n",
       " 255,\n",
       " 252,\n",
       " 3,\n",
       " 0,\n",
       " 0,\n",
       " 5,\n",
       " 253,\n",
       " 255,\n",
       " 255,\n",
       " 255,\n",
       " 254,\n",
       " 255,\n",
       " 254,\n",
       " 255,\n",
       " 254,\n",
       " 255,\n",
       " 255,\n",
       " 255,\n",
       " 251,\n",
       " 255,\n",
       " 0,\n",
       " 0,\n",
       " 1,\n",
       " 0,\n",
       " 254,\n",
       " 254,\n",
       " 255,\n",
       " 253,\n",
       " 252,\n",
       " 255,\n",
       " 255,\n",
       " 255,\n",
       " 255,\n",
       " 248,\n",
       " 255,\n",
       " 255,\n",
       " 254,\n",
       " 254,\n",
       " 255,\n",
       " 0,\n",
       " 0,\n",
       " 6,\n",
       " 1,\n",
       " 252,\n",
       " 253,\n",
       " 255,\n",
       " 254,\n",
       " 255,\n",
       " 255,\n",
       " 255,\n",
       " 254,\n",
       " 252,\n",
       " 255,\n",
       " 255,\n",
       " 255,\n",
       " 254,\n",
       " 0,\n",
       " 3,\n",
       " 0,\n",
       " 0,\n",
       " 255,\n",
       " 252,\n",
       " 253,\n",
       " 255,\n",
       " 255,\n",
       " 254,\n",
       " 252,\n",
       " 255,\n",
       " 255,\n",
       " 253,\n",
       " 255,\n",
       " 255,\n",
       " 255,\n",
       " 255,\n",
       " 0,\n",
       " 3,\n",
       " 2,\n",
       " 0,\n",
       " 1,\n",
       " 255,\n",
       " 255,\n",
       " 255,\n",
       " 253,\n",
       " 253,\n",
       " 255,\n",
       " 255,\n",
       " 255,\n",
       " 252,\n",
       " 255,\n",
       " 254,\n",
       " 253,\n",
       " 255,\n",
       " 253,\n",
       " 0,\n",
       " 2,\n",
       " 0,\n",
       " 0,\n",
       " 255,\n",
       " 254,\n",
       " 255,\n",
       " 253,\n",
       " 254,\n",
       " 255,\n",
       " 255,\n",
       " 255,\n",
       " 254,\n",
       " 255,\n",
       " 255,\n",
       " 255,\n",
       " 255,\n",
       " 255,\n",
       " 255,\n",
       " 0,\n",
       " 0,\n",
       " 1,\n",
       " 0,\n",
       " 254,\n",
       " 255,\n",
       " 254,\n",
       " 255,\n",
       " 255,\n",
       " 255,\n",
       " 255,\n",
       " 253,\n",
       " 253,\n",
       " 255,\n",
       " 255,\n",
       " 255,\n",
       " 255,\n",
       " 255,\n",
       " 1,\n",
       " 1,\n",
       " 0,\n",
       " 1,\n",
       " 253,\n",
       " 255,\n",
       " 254,\n",
       " 255,\n",
       " 253,\n",
       " 255,\n",
       " 255,\n",
       " 253,\n",
       " 255,\n",
       " 253,\n",
       " 0,\n",
       " 0,\n",
       " 0,\n",
       " 255,\n",
       " 253,\n",
       " 1,\n",
       " 0,\n",
       " 0,\n",
       " 0,\n",
       " 255,\n",
       " 255,\n",
       " 255,\n",
       " 255,\n",
       " 250,\n",
       " 255,\n",
       " 255,\n",
       " 254,\n",
       " 254,\n",
       " 255,\n",
       " 1,\n",
       " 1,\n",
       " 3,\n",
       " 0,\n",
       " 252,\n",
       " 255,\n",
       " 0,\n",
       " 0,\n",
       " 2,\n",
       " 255,\n",
       " 255,\n",
       " 254,\n",
       " 253,\n",
       " 253,\n",
       " 255,\n",
       " 255,\n",
       " 255,\n",
       " 0,\n",
       " 4,\n",
       " 0,\n",
       " 0,\n",
       " 2,\n",
       " 0,\n",
       " 255,\n",
       " 255,\n",
       " 250,\n",
       " 3,\n",
       " 1,\n",
       " 0,\n",
       " 3,\n",
       " 0,\n",
       " 0,\n",
       " 2,\n",
       " 2,\n",
       " 1,\n",
       " 0,\n",
       " 2,\n",
       " 3,\n",
       " 0,\n",
       " 0,\n",
       " 0,\n",
       " 0,\n",
       " 0,\n",
       " 255,\n",
       " 254,\n",
       " 0,\n",
       " 0,\n",
       " 4,\n",
       " 0,\n",
       " 0,\n",
       " 1,\n",
       " 1,\n",
       " 0,\n",
       " 0,\n",
       " 0,\n",
       " 0,\n",
       " 0,\n",
       " 0,\n",
       " 0,\n",
       " 2,\n",
       " 255,\n",
       " 255,\n",
       " 255,\n",
       " 254,\n",
       " 255,\n",
       " 255,\n",
       " 0,\n",
       " 0,\n",
       " 5,\n",
       " 252,\n",
       " 255,\n",
       " 255,\n",
       " 255,\n",
       " 255,\n",
       " 255,\n",
       " 255,\n",
       " 254,\n",
       " 255,\n",
       " 255,\n",
       " 254,\n",
       " 254,\n",
       " 255,\n",
       " 254,\n",
       " 255,\n",
       " 255,\n",
       " 255,\n",
       " 253,\n",
       " 255,\n",
       " 254,\n",
       " 255,\n",
       " 255,\n",
       " 254,\n",
       " 255,\n",
       " 254,\n",
       " 253,\n",
       " 253,\n",
       " 255,\n",
       " 255,\n",
       " 255,\n",
       " 255,\n",
       " 254,\n",
       " 253,\n",
       " 255,\n",
       " 251,\n",
       " 255,\n",
       " 255,\n",
       " 255,\n",
       " 255,\n",
       " 253,\n",
       " 255,\n",
       " 255,\n",
       " 254,\n",
       " 255,\n",
       " 254,\n",
       " 255,\n",
       " 255,\n",
       " 253,\n",
       " 255,\n",
       " 254,\n",
       " 255,\n",
       " 255,\n",
       " 255,\n",
       " 253,\n",
       " 255,\n",
       " 255,\n",
       " 255,\n",
       " 255,\n",
       " 255,\n",
       " 255,\n",
       " 255,\n",
       " 255,\n",
       " 255,\n",
       " 255,\n",
       " 255,\n",
       " 255,\n",
       " 255,\n",
       " 255,\n",
       " 255,\n",
       " 255,\n",
       " 255,\n",
       " 255,\n",
       " 255,\n",
       " 255,\n",
       " 255,\n",
       " 255,\n",
       " 255,\n",
       " 255,\n",
       " 255,\n",
       " 255,\n",
       " 255,\n",
       " 255,\n",
       " 255,\n",
       " 255,\n",
       " 255,\n",
       " 255,\n",
       " 255,\n",
       " 255,\n",
       " 255,\n",
       " 255,\n",
       " 255,\n",
       " 255,\n",
       " 255,\n",
       " 255,\n",
       " 255,\n",
       " 255,\n",
       " 255,\n",
       " 255,\n",
       " 255,\n",
       " 255,\n",
       " 255,\n",
       " 255,\n",
       " 255,\n",
       " 255,\n",
       " 255,\n",
       " 255,\n",
       " 255,\n",
       " 255,\n",
       " 255,\n",
       " 255,\n",
       " 255,\n",
       " 255,\n",
       " 255,\n",
       " 255,\n",
       " 255,\n",
       " 255,\n",
       " 255,\n",
       " 255,\n",
       " 255,\n",
       " 255,\n",
       " 255,\n",
       " 255,\n",
       " 255,\n",
       " 255,\n",
       " 255,\n",
       " 255,\n",
       " 255,\n",
       " 255,\n",
       " 255,\n",
       " 255,\n",
       " 255,\n",
       " 255,\n",
       " 255,\n",
       " 255,\n",
       " 255,\n",
       " 255,\n",
       " 255,\n",
       " 255,\n",
       " 255,\n",
       " 255,\n",
       " 255,\n",
       " 255,\n",
       " 255,\n",
       " 255,\n",
       " 255,\n",
       " 255,\n",
       " 255,\n",
       " 255,\n",
       " 255,\n",
       " 255,\n",
       " 255,\n",
       " 255,\n",
       " 255,\n",
       " 255,\n",
       " 255,\n",
       " 255,\n",
       " 255,\n",
       " 255,\n",
       " 255,\n",
       " 255,\n",
       " 255,\n",
       " 255,\n",
       " 255,\n",
       " 255,\n",
       " 255,\n",
       " 255,\n",
       " 255,\n",
       " 255,\n",
       " 255,\n",
       " 255,\n",
       " 255,\n",
       " 255,\n",
       " 255,\n",
       " 255,\n",
       " 255,\n",
       " 255,\n",
       " 255,\n",
       " 255,\n",
       " 255,\n",
       " 255,\n",
       " 255,\n",
       " 255,\n",
       " 255,\n",
       " 255,\n",
       " 255,\n",
       " 255,\n",
       " 255,\n",
       " 255,\n",
       " 255,\n",
       " 255,\n",
       " 255,\n",
       " 255,\n",
       " 255,\n",
       " 255,\n",
       " 255,\n",
       " 255,\n",
       " 255,\n",
       " 255,\n",
       " 255,\n",
       " 255,\n",
       " 255,\n",
       " 255,\n",
       " 255,\n",
       " 255,\n",
       " 255,\n",
       " 255,\n",
       " 255,\n",
       " 255,\n",
       " 255,\n",
       " 255,\n",
       " 255,\n",
       " 255,\n",
       " 255,\n",
       " 255,\n",
       " 255,\n",
       " 255,\n",
       " 255,\n",
       " 255,\n",
       " 255,\n",
       " 255,\n",
       " 255,\n",
       " 255,\n",
       " 255,\n",
       " 255,\n",
       " 255,\n",
       " 255,\n",
       " 255,\n",
       " 255,\n",
       " 255,\n",
       " 255,\n",
       " 255,\n",
       " 255,\n",
       " 255,\n",
       " 255,\n",
       " 255,\n",
       " 255,\n",
       " 255,\n",
       " 255,\n",
       " 255,\n",
       " 255,\n",
       " 255,\n",
       " 255,\n",
       " 255,\n",
       " 255,\n",
       " 255,\n",
       " 255,\n",
       " 255,\n",
       " 255,\n",
       " 255,\n",
       " 255,\n",
       " 255,\n",
       " 255,\n",
       " 255,\n",
       " 255,\n",
       " 255,\n",
       " 255,\n",
       " 255,\n",
       " 255,\n",
       " 255,\n",
       " 255,\n",
       " 255,\n",
       " 255,\n",
       " 255,\n",
       " 255,\n",
       " 255,\n",
       " 255,\n",
       " 255,\n",
       " 255,\n",
       " 255,\n",
       " 255,\n",
       " 255,\n",
       " 255,\n",
       " 255,\n",
       " 255,\n",
       " 255,\n",
       " 255]"
      ]
     },
     "execution_count": 365,
     "metadata": {},
     "output_type": "execute_result"
    }
   ],
   "source": [
    "datasets[0]"
   ]
  },
  {
   "cell_type": "code",
   "execution_count": 313,
   "metadata": {},
   "outputs": [],
   "source": [
    "import numpy as np"
   ]
  },
  {
   "cell_type": "code",
   "execution_count": 314,
   "metadata": {},
   "outputs": [],
   "source": [
    "np_datasets=np.array(datasets)"
   ]
  },
  {
   "cell_type": "code",
   "execution_count": 315,
   "metadata": {},
   "outputs": [],
   "source": [
    "np_labels = np.array(labels)"
   ]
  },
  {
   "cell_type": "code",
   "execution_count": 316,
   "metadata": {},
   "outputs": [
    {
     "data": {
      "text/plain": [
       "(2100, 700)"
      ]
     },
     "execution_count": 316,
     "metadata": {},
     "output_type": "execute_result"
    }
   ],
   "source": [
    "np_datasets.shape"
   ]
  },
  {
   "cell_type": "code",
   "execution_count": 317,
   "metadata": {},
   "outputs": [
    {
     "data": {
      "text/plain": [
       "(2100,)"
      ]
     },
     "execution_count": 317,
     "metadata": {},
     "output_type": "execute_result"
    }
   ],
   "source": [
    "np_labels.shape"
   ]
  },
  {
   "cell_type": "code",
   "execution_count": 318,
   "metadata": {},
   "outputs": [],
   "source": [
    "x=np_datasets.reshape(2100,h,w)"
   ]
  },
  {
   "cell_type": "code",
   "execution_count": 319,
   "metadata": {},
   "outputs": [
    {
     "data": {
      "text/plain": [
       "(2100, 35, 20)"
      ]
     },
     "execution_count": 319,
     "metadata": {},
     "output_type": "execute_result"
    }
   ],
   "source": [
    "x.shape"
   ]
  },
  {
   "cell_type": "code",
   "execution_count": 320,
   "metadata": {},
   "outputs": [
    {
     "data": {
      "text/plain": [
       "<matplotlib.image.AxesImage at 0x29f53cc0>"
      ]
     },
     "execution_count": 320,
     "metadata": {},
     "output_type": "execute_result"
    },
    {
     "data": {
      "image/png": "[encoded data removed]",
      "text/plain": [
       "<Figure size 432x288 with 1 Axes>"
      ]
     },
     "metadata": {},
     "output_type": "display_data"
    }
   ],
   "source": [
    "plt.imshow(x[0])"
   ]
  },
  {
   "cell_type": "code",
   "execution_count": 321,
   "metadata": {},
   "outputs": [],
   "source": [
    "X=x.copy()\n",
    "y=np_labels.copy()"
   ]
  },
  {
   "cell_type": "code",
   "execution_count": 322,
   "metadata": {},
   "outputs": [],
   "source": [
    "from sklearn.cross_validation import train_test_split"
   ]
  },
  {
   "cell_type": "code",
   "execution_count": 323,
   "metadata": {},
   "outputs": [],
   "source": [
    "X_train,X_test,y_train,y_test = train_test_split(X,y,test_size=0.2)"
   ]
  },
  {
   "cell_type": "code",
   "execution_count": 324,
   "metadata": {},
   "outputs": [],
   "source": [
    "X_train_4D = X_train.reshape(X_train.shape[0],h,w,1).astype('float32')\n",
    "X_test_4D = X_test.reshape(X_test.shape[0],h,w,1).astype('float32')"
   ]
  },
  {
   "cell_type": "code",
   "execution_count": 325,
   "metadata": {},
   "outputs": [],
   "source": [
    "X_train_4D_normal=X_train_4D/255\n",
    "X_test_4D_normal=X_test_4D/255"
   ]
  },
  {
   "cell_type": "code",
   "execution_count": 326,
   "metadata": {},
   "outputs": [],
   "source": [
    "from keras.utils import np_utils"
   ]
  },
  {
   "cell_type": "code",
   "execution_count": 327,
   "metadata": {},
   "outputs": [],
   "source": [
    "y_train_onehot = np_utils.to_categorical(y_train,num_classes=9)\n",
    "y_test_onehot = np_utils.to_categorical(y_test,num_classes=9)"
   ]
  },
  {
   "cell_type": "code",
   "execution_count": 328,
   "metadata": {},
   "outputs": [
    {
     "data": {
      "text/plain": [
       "1680"
      ]
     },
     "execution_count": 328,
     "metadata": {},
     "output_type": "execute_result"
    }
   ],
   "source": [
    "len(y_train)"
   ]
  },
  {
   "cell_type": "code",
   "execution_count": 329,
   "metadata": {},
   "outputs": [
    {
     "data": {
      "text/plain": [
       "2100"
      ]
     },
     "execution_count": 329,
     "metadata": {},
     "output_type": "execute_result"
    }
   ],
   "source": [
    "len(labels)"
   ]
  },
  {
   "cell_type": "code",
   "execution_count": 150,
   "metadata": {},
   "outputs": [
    {
     "data": {
      "text/plain": [
       "{'2', '3', '4', '5', '6', '7', '8'}"
      ]
     },
     "execution_count": 150,
     "metadata": {},
     "output_type": "execute_result"
    }
   ],
   "source": [
    "set(labels)"
   ]
  },
  {
   "cell_type": "code",
   "execution_count": 151,
   "metadata": {},
   "outputs": [
    {
     "data": {
      "text/plain": [
       "728"
      ]
     },
     "execution_count": 151,
     "metadata": {},
     "output_type": "execute_result"
    }
   ],
   "source": [
    "len(y_train_onehot)"
   ]
  },
  {
   "cell_type": "code",
   "execution_count": 169,
   "metadata": {},
   "outputs": [
    {
     "data": {
      "text/plain": [
       "array([0., 0., 0., 0., 0., 0., 1., 0., 0.], dtype=float32)"
      ]
     },
     "execution_count": 169,
     "metadata": {},
     "output_type": "execute_result"
    }
   ],
   "source": [
    "y_train_onehot[0]"
   ]
  },
  {
   "cell_type": "code",
   "execution_count": 330,
   "metadata": {},
   "outputs": [],
   "source": [
    "from keras.models import Sequential"
   ]
  },
  {
   "cell_type": "code",
   "execution_count": 331,
   "metadata": {},
   "outputs": [],
   "source": [
    "from keras.layers import Dense,Dropout,Flatten,Conv2D,MaxPooling2D"
   ]
  },
  {
   "cell_type": "code",
   "execution_count": 332,
   "metadata": {},
   "outputs": [],
   "source": [
    "model = Sequential()"
   ]
  },
  {
   "cell_type": "code",
   "execution_count": 333,
   "metadata": {},
   "outputs": [],
   "source": [
    "model.add(\n",
    "   Conv2D(\n",
    "   filters=16,\n",
    "   kernel_size=(5,5),\n",
    "   padding='same',\n",
    "   input_shape=(h,w,1),\n",
    "   activation='relu',\n",
    "   )\n",
    ")"
   ]
  },
  {
   "cell_type": "code",
   "execution_count": 334,
   "metadata": {},
   "outputs": [],
   "source": [
    "model.add(\n",
    "MaxPooling2D(pool_size=(2,2))\n",
    ")"
   ]
  },
  {
   "cell_type": "code",
   "execution_count": 335,
   "metadata": {},
   "outputs": [],
   "source": [
    "model.add(\n",
    "Conv2D(\n",
    "filters=36,\n",
    "    kernel_size=(5,5),\n",
    "    padding='same',\n",
    "    activation='relu',\n",
    ")\n",
    ")"
   ]
  },
  {
   "cell_type": "code",
   "execution_count": 336,
   "metadata": {},
   "outputs": [],
   "source": [
    "model.add(\n",
    "MaxPooling2D(pool_size=(2,2))\n",
    ")"
   ]
  },
  {
   "cell_type": "code",
   "execution_count": 337,
   "metadata": {},
   "outputs": [],
   "source": [
    "model.add(Dropout(0.25))"
   ]
  },
  {
   "cell_type": "code",
   "execution_count": 338,
   "metadata": {},
   "outputs": [],
   "source": [
    "model.add(Flatten())"
   ]
  },
  {
   "cell_type": "code",
   "execution_count": 339,
   "metadata": {},
   "outputs": [],
   "source": [
    "model.add(\n",
    "Dense(\n",
    "128,activation='relu'\n",
    ")\n",
    ")"
   ]
  },
  {
   "cell_type": "code",
   "execution_count": 340,
   "metadata": {},
   "outputs": [],
   "source": [
    "model.add(Dropout(0.5))"
   ]
  },
  {
   "cell_type": "code",
   "execution_count": 341,
   "metadata": {},
   "outputs": [],
   "source": [
    "model.add(\n",
    "Dense(\n",
    "9,\n",
    "    activation='softmax'\n",
    ")\n",
    ")"
   ]
  },
  {
   "cell_type": "code",
   "execution_count": 342,
   "metadata": {
    "scrolled": true
   },
   "outputs": [
    {
     "name": "stdout",
     "output_type": "stream",
     "text": [
      "_________________________________________________________________\n",
      "Layer (type)                 Output Shape              Param #   \n",
      "=================================================================\n",
      "conv2d_16 (Conv2D)           (None, 35, 20, 16)        416       \n",
      "_________________________________________________________________\n",
      "max_pooling2d_15 (MaxPooling (None, 17, 10, 16)        0         \n",
      "_________________________________________________________________\n",
      "conv2d_17 (Conv2D)           (None, 17, 10, 36)        14436     \n",
      "_________________________________________________________________\n",
      "max_pooling2d_16 (MaxPooling (None, 8, 5, 36)          0         \n",
      "_________________________________________________________________\n",
      "dropout_14 (Dropout)         (None, 8, 5, 36)          0         \n",
      "_________________________________________________________________\n",
      "flatten_8 (Flatten)          (None, 1440)              0         \n",
      "_________________________________________________________________\n",
      "dense_16 (Dense)             (None, 128)               184448    \n",
      "_________________________________________________________________\n",
      "dropout_15 (Dropout)         (None, 128)               0         \n",
      "_________________________________________________________________\n",
      "dense_17 (Dense)             (None, 9)                 1161      \n",
      "=================================================================\n",
      "Total params: 200,461\n",
      "Trainable params: 200,461\n",
      "Non-trainable params: 0\n",
      "_________________________________________________________________\n"
     ]
    }
   ],
   "source": [
    "model.summary()"
   ]
  },
  {
   "cell_type": "code",
   "execution_count": 343,
   "metadata": {},
   "outputs": [],
   "source": [
    "model.compile(loss='categorical_crossentropy',\n",
    "             optimizer='adam',\n",
    "             metrics=['accuracy'])"
   ]
  },
  {
   "cell_type": "code",
   "execution_count": 344,
   "metadata": {
    "scrolled": true
   },
   "outputs": [
    {
     "name": "stdout",
     "output_type": "stream",
     "text": [
      "Train on 1344 samples, validate on 336 samples\n",
      "Epoch 1/10\n",
      " - 43s - loss: 2.0728 - acc: 0.1466 - val_loss: 1.8853 - val_acc: 0.4643\n",
      "Epoch 2/10\n",
      " - 38s - loss: 1.8194 - acc: 0.2790 - val_loss: 1.4990 - val_acc: 0.5923\n",
      "Epoch 3/10\n",
      " - 36s - loss: 1.3889 - acc: 0.5082 - val_loss: 0.9018 - val_acc: 0.8065\n",
      "Epoch 4/10\n",
      " - 36s - loss: 0.9516 - acc: 0.6741 - val_loss: 0.5142 - val_acc: 0.8601\n",
      "Epoch 5/10\n",
      " - 37s - loss: 0.6545 - acc: 0.7969 - val_loss: 0.3338 - val_acc: 0.9345\n",
      "Epoch 6/10\n",
      " - 37s - loss: 0.4828 - acc: 0.8549 - val_loss: 0.2253 - val_acc: 0.9524\n",
      "Epoch 7/10\n",
      " - 35s - loss: 0.3744 - acc: 0.8914 - val_loss: 0.1568 - val_acc: 0.9613\n",
      "Epoch 8/10\n",
      " - 36s - loss: 0.3035 - acc: 0.9152 - val_loss: 0.1262 - val_acc: 0.9613\n",
      "Epoch 9/10\n",
      " - 37s - loss: 0.2309 - acc: 0.9397 - val_loss: 0.1179 - val_acc: 0.9762\n",
      "Epoch 10/10\n",
      " - 35s - loss: 0.1996 - acc: 0.9427 - val_loss: 0.1007 - val_acc: 0.9702\n"
     ]
    }
   ],
   "source": [
    "history_train = model.fit(x=X_train_4D_normal,\n",
    "                         y=y_train_onehot,\n",
    "                         validation_split=0.2,\n",
    "                          epochs=10,\n",
    "                          batch_size=100,\n",
    "                          verbose = 2,\n",
    "                         )"
   ]
  },
  {
   "cell_type": "code",
   "execution_count": 345,
   "metadata": {},
   "outputs": [
    {
     "name": "stdout",
     "output_type": "stream",
     "text": [
      "420/420 [==============================] - 0s 505us/step\n"
     ]
    }
   ],
   "source": [
    "score = model.evaluate(X_test_4D_normal,y_test_onehot)"
   ]
  },
  {
   "cell_type": "code",
   "execution_count": 346,
   "metadata": {},
   "outputs": [
    {
     "data": {
      "text/plain": [
       "[0.09991989401834352, 0.9714285714285714]"
      ]
     },
     "execution_count": 346,
     "metadata": {},
     "output_type": "execute_result"
    }
   ],
   "source": [
    "score"
   ]
  },
  {
   "cell_type": "code",
   "execution_count": 376,
   "metadata": {},
   "outputs": [],
   "source": [
    "prediction = model.predict_classes(X_test_4D_normal)"
   ]
  },
  {
   "cell_type": "code",
   "execution_count": 377,
   "metadata": {},
   "outputs": [
    {
     "data": {
      "text/plain": [
       "array([4, 6, 8, 5, 7, 2, 6, 2, 7, 7, 6, 6, 2, 5, 6, 8, 5, 3, 4, 4, 8, 6,\n",
       "       4, 2, 4, 7, 8, 3, 8, 4, 6, 6, 6, 7, 7, 2, 2, 6, 3, 2, 6, 2, 2, 7,\n",
       "       5, 4, 6, 2, 8, 4, 8, 7, 2, 3, 2, 7, 3, 8, 7, 2, 6, 5, 3, 6, 5, 6,\n",
       "       2, 6, 4, 6, 3, 3, 2, 6, 7, 8, 8, 8, 8, 8, 8, 2, 2, 7, 2, 6, 7, 8,\n",
       "       3, 3, 6, 3, 8, 2, 5, 6, 4, 3, 6, 5, 5, 4, 8, 8, 3, 8, 4, 5, 6, 4,\n",
       "       2, 4, 6, 4, 8, 4, 8, 2, 2, 4, 6, 2, 7, 6, 3, 5, 5, 5, 5, 7, 2, 5,\n",
       "       7, 4, 5, 8, 7, 3, 3, 4, 6, 2, 8, 5, 6, 6, 4, 3, 5, 4, 6, 3, 8, 8,\n",
       "       7, 8, 4, 2, 5, 5, 2, 3, 4, 4, 4, 5, 5, 4, 5, 8, 8, 8, 5, 3, 2, 5,\n",
       "       4, 4, 7, 4, 5, 3, 4, 4, 6, 6, 3, 6, 8, 5, 5, 2, 7, 8, 3, 2, 7, 3,\n",
       "       3, 6, 7, 7, 7, 3, 5, 5, 3, 4, 8, 3, 6, 8, 4, 5, 3, 3, 2, 6, 3, 7,\n",
       "       4, 7, 8, 4, 3, 6, 3, 3, 2, 7, 8, 2, 3, 3, 8, 4, 4, 4, 4, 3, 8, 7,\n",
       "       4, 4, 2, 3, 4, 7, 8, 3, 5, 4, 2, 3, 6, 6, 7, 8, 6, 2, 4, 5, 4, 6,\n",
       "       2, 8, 2, 5, 2, 2, 5, 2, 2, 8, 7, 7, 3, 6, 2, 3, 2, 8, 8, 8, 8, 2,\n",
       "       3, 8, 2, 4, 5, 3, 6, 7, 3, 8, 6, 4, 3, 8, 4, 8, 6, 6, 5, 5, 4, 5,\n",
       "       5, 4, 7, 6, 6, 6, 4, 6, 8, 6, 8, 3, 6, 7, 7, 6, 3, 8, 6, 2, 4, 6,\n",
       "       7, 8, 2, 5, 5, 2, 8, 3, 6, 3, 5, 2, 4, 7, 6, 7, 8, 6, 2, 3, 3, 7,\n",
       "       2, 2, 6, 3, 8, 7, 8, 3, 3, 2, 5, 3, 6, 5, 2, 2, 7, 3, 3, 6, 8, 3,\n",
       "       3, 4, 2, 3, 6, 7, 5, 3, 4, 7, 4, 4, 2, 8, 5, 7, 4, 5, 2, 7, 6, 4,\n",
       "       4, 8, 2, 5, 7, 8, 8, 2, 5, 8, 2, 4, 4, 2, 5, 7, 6, 4, 3, 4, 4, 6,\n",
       "       4, 2], dtype=int64)"
      ]
     },
     "execution_count": 377,
     "metadata": {},
     "output_type": "execute_result"
    }
   ],
   "source": [
    "prediction"
   ]
  },
  {
   "cell_type": "code",
   "execution_count": 349,
   "metadata": {},
   "outputs": [
    {
     "data": {
      "text/plain": [
       "array([4, 6, 8, 5, 7, 2, 6, 2, 7, 7, 6, 6, 2, 5, 6, 8, 5, 3, 4, 4, 8, 6,\n",
       "       4, 2, 4, 7, 8, 3, 8, 4, 6, 6, 6, 7, 7, 2, 2, 6, 3, 2, 6, 2, 2, 7,\n",
       "       5, 4, 6, 2, 8, 4, 8, 7, 2, 3, 2, 7, 3, 8, 7, 2, 6, 5, 3, 6, 5, 6,\n",
       "       2, 6, 4, 6, 3, 3, 2, 6, 7, 8, 8, 8, 8, 6, 8, 2, 2, 7, 2, 6, 7, 8,\n",
       "       3, 3, 6, 5, 8, 2, 5, 6, 4, 3, 6, 5, 5, 4, 3, 8, 3, 8, 4, 5, 6, 4,\n",
       "       2, 4, 6, 8, 8, 4, 8, 2, 2, 4, 6, 2, 7, 6, 3, 5, 5, 5, 5, 7, 2, 5,\n",
       "       7, 4, 5, 8, 7, 3, 8, 4, 6, 2, 8, 5, 6, 6, 4, 3, 5, 4, 6, 3, 8, 8,\n",
       "       7, 8, 4, 2, 5, 5, 2, 3, 4, 4, 4, 5, 5, 4, 5, 8, 8, 8, 5, 3, 2, 5,\n",
       "       4, 4, 7, 4, 5, 3, 4, 4, 6, 6, 3, 6, 8, 6, 5, 2, 7, 8, 3, 2, 7, 3,\n",
       "       3, 6, 7, 7, 7, 3, 5, 5, 3, 4, 8, 3, 8, 8, 4, 5, 3, 3, 2, 6, 3, 7,\n",
       "       4, 7, 8, 4, 3, 6, 3, 3, 2, 7, 8, 2, 8, 3, 8, 4, 4, 4, 4, 3, 8, 7,\n",
       "       4, 4, 2, 3, 4, 7, 8, 3, 5, 4, 2, 3, 6, 6, 7, 8, 6, 2, 4, 5, 4, 6,\n",
       "       2, 8, 2, 5, 2, 2, 5, 2, 2, 8, 7, 7, 3, 6, 2, 8, 2, 8, 8, 8, 8, 2,\n",
       "       3, 8, 2, 4, 5, 3, 6, 7, 3, 8, 6, 4, 3, 8, 4, 8, 6, 6, 5, 5, 4, 5,\n",
       "       5, 4, 7, 6, 6, 6, 4, 6, 8, 6, 8, 3, 6, 7, 7, 6, 3, 8, 6, 2, 4, 6,\n",
       "       7, 8, 2, 5, 5, 2, 8, 3, 6, 8, 5, 2, 4, 7, 6, 7, 8, 6, 2, 3, 3, 7,\n",
       "       2, 2, 6, 3, 8, 7, 8, 3, 3, 2, 5, 3, 6, 5, 2, 2, 7, 3, 3, 6, 8, 3,\n",
       "       3, 4, 2, 3, 6, 7, 5, 5, 4, 7, 4, 4, 2, 8, 5, 7, 4, 5, 2, 7, 6, 4,\n",
       "       4, 8, 2, 5, 7, 8, 8, 2, 5, 8, 2, 4, 4, 2, 3, 7, 6, 4, 3, 4, 4, 6,\n",
       "       4, 2])"
      ]
     },
     "execution_count": 349,
     "metadata": {},
     "output_type": "execute_result"
    }
   ],
   "source": [
    "y_test"
   ]
  },
  {
   "cell_type": "code",
   "execution_count": 375,
   "metadata": {},
   "outputs": [
    {
     "data": {
      "text/html": [
       "<div>\n",
       "<style scoped>\n",
       "    .dataframe tbody tr th:only-of-type {\n",
       "        vertical-align: middle;\n",
       "    }\n",
       "\n",
       "    .dataframe tbody tr th {\n",
       "        vertical-align: top;\n",
       "    }\n",
       "\n",
       "    .dataframe thead th {\n",
       "        text-align: right;\n",
       "    }\n",
       "</style>\n",
       "<table border=\"1\" class=\"dataframe\">\n",
       "  <thead>\n",
       "    <tr style=\"text-align: right;\">\n",
       "      <th>col_0</th>\n",
       "      <th>2</th>\n",
       "      <th>3</th>\n",
       "      <th>4</th>\n",
       "      <th>5</th>\n",
       "      <th>6</th>\n",
       "      <th>7</th>\n",
       "      <th>8</th>\n",
       "    </tr>\n",
       "    <tr>\n",
       "      <th>row_0</th>\n",
       "      <th></th>\n",
       "      <th></th>\n",
       "      <th></th>\n",
       "      <th></th>\n",
       "      <th></th>\n",
       "      <th></th>\n",
       "      <th></th>\n",
       "    </tr>\n",
       "  </thead>\n",
       "  <tbody>\n",
       "    <tr>\n",
       "      <th>2</th>\n",
       "      <td>64</td>\n",
       "      <td>0</td>\n",
       "      <td>0</td>\n",
       "      <td>0</td>\n",
       "      <td>0</td>\n",
       "      <td>0</td>\n",
       "      <td>0</td>\n",
       "    </tr>\n",
       "    <tr>\n",
       "      <th>3</th>\n",
       "      <td>0</td>\n",
       "      <td>57</td>\n",
       "      <td>0</td>\n",
       "      <td>1</td>\n",
       "      <td>0</td>\n",
       "      <td>0</td>\n",
       "      <td>1</td>\n",
       "    </tr>\n",
       "    <tr>\n",
       "      <th>4</th>\n",
       "      <td>0</td>\n",
       "      <td>0</td>\n",
       "      <td>65</td>\n",
       "      <td>0</td>\n",
       "      <td>0</td>\n",
       "      <td>0</td>\n",
       "      <td>0</td>\n",
       "    </tr>\n",
       "    <tr>\n",
       "      <th>5</th>\n",
       "      <td>0</td>\n",
       "      <td>2</td>\n",
       "      <td>0</td>\n",
       "      <td>49</td>\n",
       "      <td>0</td>\n",
       "      <td>0</td>\n",
       "      <td>0</td>\n",
       "    </tr>\n",
       "    <tr>\n",
       "      <th>6</th>\n",
       "      <td>0</td>\n",
       "      <td>0</td>\n",
       "      <td>0</td>\n",
       "      <td>1</td>\n",
       "      <td>64</td>\n",
       "      <td>0</td>\n",
       "      <td>1</td>\n",
       "    </tr>\n",
       "    <tr>\n",
       "      <th>7</th>\n",
       "      <td>0</td>\n",
       "      <td>0</td>\n",
       "      <td>0</td>\n",
       "      <td>0</td>\n",
       "      <td>0</td>\n",
       "      <td>48</td>\n",
       "      <td>0</td>\n",
       "    </tr>\n",
       "    <tr>\n",
       "      <th>8</th>\n",
       "      <td>0</td>\n",
       "      <td>4</td>\n",
       "      <td>1</td>\n",
       "      <td>0</td>\n",
       "      <td>1</td>\n",
       "      <td>0</td>\n",
       "      <td>61</td>\n",
       "    </tr>\n",
       "  </tbody>\n",
       "</table>\n",
       "</div>"
      ],
      "text/plain": [
       "col_0   2   3   4   5   6   7   8\n",
       "row_0                            \n",
       "2      64   0   0   0   0   0   0\n",
       "3       0  57   0   1   0   0   1\n",
       "4       0   0  65   0   0   0   0\n",
       "5       0   2   0  49   0   0   0\n",
       "6       0   0   0   1  64   0   1\n",
       "7       0   0   0   0   0  48   0\n",
       "8       0   4   1   0   1   0  61"
      ]
     },
     "execution_count": 375,
     "metadata": {},
     "output_type": "execute_result"
    }
   ],
   "source": [
    "import pandas as pd\n",
    "pd.crosstab(y_test,prediction)"
   ]
  },
  {
   "cell_type": "code",
   "execution_count": 191,
   "metadata": {},
   "outputs": [
    {
     "data": {
      "text/plain": [
       "array(['5', '2', '4', '5', '4', '6', '7', '6', '6', '7', '4', '4', '2',\n",
       "       '6', '7', '4', '5', '4', '6', '4', '8', '7', '3', '5', '8', '7',\n",
       "       '5', '2', '5', '2', '4', '5', '2', '8', '3', '5', '8', '7', '8',\n",
       "       '5', '3', '7', '2', '8', '6', '8', '8', '2', '7', '2', '8', '8',\n",
       "       '3', '5', '4', '5', '6', '3', '2', '8', '7', '6', '7', '8', '8',\n",
       "       '7', '2', '8', '3', '5', '8', '8', '7', '4', '6', '3', '2', '5',\n",
       "       '2', '3', '5', '8', '3', '5', '8', '6', '8', '3', '7', '2', '2',\n",
       "       '5', '5', '2', '4', '3', '2', '2', '4', '7', '6', '7', '6', '3',\n",
       "       '3', '8', '8', '5', '4', '6', '6', '5', '4', '3', '3', '3', '6',\n",
       "       '5', '3', '6', '5', '4', '8', '4', '4', '2', '2', '8', '6', '6',\n",
       "       '6', '5', '8', '6', '3', '5', '7', '6', '2', '7', '7', '4', '8',\n",
       "       '5', '3', '7', '7', '8', '8', '8', '3', '4', '6', '8', '7', '7',\n",
       "       '5', '2', '3', '2', '5', '8', '5', '3', '6', '7', '4', '2', '3',\n",
       "       '3', '3', '2', '2', '4', '2', '3', '4', '5', '5', '2', '3', '2',\n",
       "       '8', '6', '2', '6', '6', '7', '8', '4', '5', '2', '6', '4', '7',\n",
       "       '5', '5', '3', '6', '3', '5', '7', '5', '6', '5', '4', '8', '8',\n",
       "       '4', '2', '4', '6', '2', '7', '7', '5', '4', '3', '7', '5', '4',\n",
       "       '2', '7', '6', '2', '7', '4', '4', '7', '7', '6', '3', '6', '7',\n",
       "       '6', '4', '6', '5', '2', '4', '8', '6', '5', '7', '2', '8', '7',\n",
       "       '3', '5', '2', '8', '2', '2', '4', '3', '3', '3', '5', '6', '6',\n",
       "       '2', '4', '8', '7', '4', '4', '8', '2', '8', '7', '6', '3', '4',\n",
       "       '3', '2', '5', '7', '5', '3', '4', '7', '7', '2', '5', '6', '7',\n",
       "       '4', '4', '5', '3', '6', '7', '4', '4', '6', '3', '6', '4', '7',\n",
       "       '4', '5', '2', '6', '4', '5', '6', '2', '5', '8', '2', '8', '6',\n",
       "       '4', '4', '4', '5', '5', '8', '4', '6', '8', '3', '2', '4', '5',\n",
       "       '3', '2', '4', '7', '2', '4', '3', '8', '5', '4', '7', '6', '2',\n",
       "       '8', '3', '2', '5', '5', '6', '4', '2', '7', '3', '4', '5', '3',\n",
       "       '3', '3', '6', '6', '7', '2', '8', '7', '2', '5', '5', '3', '2',\n",
       "       '5', '8', '2', '4', '3', '6', '7', '2', '8', '8', '4', '7', '7',\n",
       "       '5', '6', '3', '5', '3', '2', '7', '4', '3', '3', '5', '8', '7',\n",
       "       '4', '7', '8', '6', '6', '2', '8', '7', '8', '2', '6', '8', '6',\n",
       "       '3', '3', '8', '4', '5', '4', '3', '6', '3', '7', '7', '6', '6',\n",
       "       '8', '5', '3', '6', '5', '7', '8', '2', '5', '2', '8', '6', '2',\n",
       "       '6', '2', '2', '7', '2', '7', '4', '7', '6', '5', '7', '8', '3',\n",
       "       '7', '3', '3', '8', '7', '8', '7', '7', '7', '6', '5', '2', '7',\n",
       "       '4', '2', '5', '8', '5', '3', '5', '7', '6', '4', '3', '4', '6',\n",
       "       '5', '2', '8', '7', '7', '8', '8', '8', '8', '3', '4', '8', '6',\n",
       "       '7', '8', '2', '6', '5', '4', '7', '4', '7', '4', '5', '2', '4',\n",
       "       '7', '6', '8', '4', '2', '7', '8', '6', '4', '8', '2', '3', '8',\n",
       "       '7', '6', '7', '6', '3', '5', '4', '7', '8', '5', '6', '3', '7',\n",
       "       '4', '5', '8', '3', '2', '4', '7', '2', '6', '7', '3', '7', '6',\n",
       "       '8', '7', '3', '2', '6', '5', '7', '4', '6', '3', '7', '8', '6',\n",
       "       '8', '2', '5', '3', '8', '6', '7', '4', '3', '6', '2', '5', '3',\n",
       "       '8', '4', '7', '3', '2', '6', '3', '4', '5', '2', '4', '6', '2',\n",
       "       '4', '5', '2', '8', '4', '2', '3', '8', '2', '2', '2', '7', '3',\n",
       "       '7', '7', '8', '4', '8', '2', '4', '6', '4', '4', '4', '4', '6',\n",
       "       '4', '5', '8', '3', '4', '7', '8', '3', '5', '6', '8', '3', '5',\n",
       "       '5', '4', '6', '2', '6', '6', '6', '5', '3', '3', '8', '6', '5',\n",
       "       '2', '4', '4', '5', '3', '3', '4', '8', '3', '8', '4', '2', '4',\n",
       "       '2', '6', '2', '6', '4', '2', '5', '6', '3', '7', '7', '8', '6',\n",
       "       '3', '2', '3', '2', '7', '8', '5', '3', '4', '8', '2', '6', '8',\n",
       "       '8', '8', '8', '5', '4', '5', '4', '3', '4', '5', '7', '2', '2',\n",
       "       '6', '2', '5', '4', '6', '7', '3', '2', '7', '3', '5', '3', '8',\n",
       "       '8', '2', '3', '3', '5', '5', '7', '7', '8', '8', '8', '3', '3',\n",
       "       '2', '7', '8', '6', '8', '2', '2', '2', '8', '6', '8', '5', '6',\n",
       "       '6', '3', '3', '7', '5', '7', '2', '8', '3', '8', '6', '3', '8'],\n",
       "      dtype='<U1')"
      ]
     },
     "execution_count": 191,
     "metadata": {},
     "output_type": "execute_result"
    }
   ],
   "source": [
    "y_train"
   ]
  },
  {
   "cell_type": "code",
   "execution_count": 224,
   "metadata": {},
   "outputs": [],
   "source": [
    "b = [0,2,3,5,6,7,8]"
   ]
  },
  {
   "cell_type": "code",
   "execution_count": 232,
   "metadata": {},
   "outputs": [],
   "source": [
    "c=np_utils.to_categorical(b,10)"
   ]
  },
  {
   "cell_type": "code",
   "execution_count": 233,
   "metadata": {
    "scrolled": true
   },
   "outputs": [
    {
     "data": {
      "text/plain": [
       "array([[1., 0., 0., 0., 0., 0., 0., 0., 0., 0.],\n",
       "       [0., 0., 1., 0., 0., 0., 0., 0., 0., 0.],\n",
       "       [0., 0., 0., 1., 0., 0., 0., 0., 0., 0.],\n",
       "       [0., 0., 0., 0., 0., 1., 0., 0., 0., 0.],\n",
       "       [0., 0., 0., 0., 0., 0., 1., 0., 0., 0.],\n",
       "       [0., 0., 0., 0., 0., 0., 0., 1., 0., 0.],\n",
       "       [0., 0., 0., 0., 0., 0., 0., 0., 1., 0.]], dtype=float32)"
      ]
     },
     "execution_count": 233,
     "metadata": {},
     "output_type": "execute_result"
    }
   ],
   "source": [
    "c"
   ]
  },
  {
   "cell_type": "code",
   "execution_count": 227,
   "metadata": {},
   "outputs": [
    {
     "data": {
      "text/plain": [
       "9"
      ]
     },
     "execution_count": 227,
     "metadata": {},
     "output_type": "execute_result"
    }
   ],
   "source": [
    "len(c[0])"
   ]
  },
  {
   "cell_type": "code",
   "execution_count": null,
   "metadata": {},
   "outputs": [],
   "source": [
    "\n",
    "\n",
    "    #计算向量中每个类别值在最终生成的矩阵“压扁”后的向量里的位置\n",
    "    index_offset = np.arange(num_labels) * num_classes\n",
    "    #遍历矩阵，为每个类别的位置填充1\n",
    "    labels_one_hot.flat[index_offset + labels] = 1\n",
    "\n"
   ]
  },
  {
   "cell_type": "code",
   "execution_count": 242,
   "metadata": {},
   "outputs": [],
   "source": [
    "labels=[1,2,9]\n",
    "num_classes=9\n",
    "num_labels = len(labels)\n",
    "#生成值全为0的独热编码的矩阵\n",
    "labels_one_hot = np.zeros((num_labels, num_classes))"
   ]
  },
  {
   "cell_type": "code",
   "execution_count": 243,
   "metadata": {
    "scrolled": true
   },
   "outputs": [
    {
     "data": {
      "text/plain": [
       "array([[0., 0., 0., 0., 0., 0., 0., 0., 0.],\n",
       "       [0., 0., 0., 0., 0., 0., 0., 0., 0.],\n",
       "       [0., 0., 0., 0., 0., 0., 0., 0., 0.]])"
      ]
     },
     "execution_count": 243,
     "metadata": {},
     "output_type": "execute_result"
    }
   ],
   "source": [
    "labels_one_hot"
   ]
  },
  {
   "cell_type": "code",
   "execution_count": 244,
   "metadata": {},
   "outputs": [],
   "source": [
    "index_offset = np.arange(num_labels) * num_classes"
   ]
  },
  {
   "cell_type": "code",
   "execution_count": 245,
   "metadata": {
    "scrolled": true
   },
   "outputs": [
    {
     "data": {
      "text/plain": [
       "array([ 0,  9, 18])"
      ]
     },
     "execution_count": 245,
     "metadata": {},
     "output_type": "execute_result"
    }
   ],
   "source": [
    "index_offset"
   ]
  },
  {
   "cell_type": "code",
   "execution_count": 240,
   "metadata": {
    "scrolled": true
   },
   "outputs": [
    {
     "data": {
      "text/plain": [
       "array([0, 1, 2])"
      ]
     },
     "execution_count": 240,
     "metadata": {},
     "output_type": "execute_result"
    }
   ],
   "source": [
    "np.arange(3)"
   ]
  },
  {
   "cell_type": "code",
   "execution_count": 246,
   "metadata": {},
   "outputs": [
    {
     "ename": "IndexError",
     "evalue": "index 27 is out of bounds for size 27",
     "output_type": "error",
     "traceback": [
      "\u001b[1;31m---------------------------------------------------------------------------\u001b[0m",
      "\u001b[1;31mIndexError\u001b[0m                                Traceback (most recent call last)",
      "\u001b[1;32m<ipython-input-246-fde2f7a7450c>\u001b[0m in \u001b[0;36m<module>\u001b[1;34m()\u001b[0m\n\u001b[1;32m----> 1\u001b[1;33m \u001b[0mlabels_one_hot\u001b[0m\u001b[1;33m.\u001b[0m\u001b[0mflat\u001b[0m\u001b[1;33m[\u001b[0m\u001b[0mindex_offset\u001b[0m \u001b[1;33m+\u001b[0m \u001b[0mlabels\u001b[0m\u001b[1;33m]\u001b[0m\u001b[1;33m=\u001b[0m\u001b[1;36m1\u001b[0m\u001b[1;33m\u001b[0m\u001b[0m\n\u001b[0m",
      "\u001b[1;31mIndexError\u001b[0m: index 27 is out of bounds for size 27"
     ]
    }
   ],
   "source": [
    "labels_one_hot.flat[index_offset + labels]=1"
   ]
  },
  {
   "cell_type": "code",
   "execution_count": 247,
   "metadata": {},
   "outputs": [],
   "source": [
    "\n",
    "def convert_to_one_hot(labels, num_classes):\n",
    "    #计算向量有多少行\n",
    "    num_labels = len(labels)\n",
    "    #生成值全为0的独热编码的矩阵\n",
    "    labels_one_hot = np.zeros((num_labels, num_classes))\n",
    "    #计算向量中每个类别值在最终生成的矩阵“压扁”后的向量里的位置\n",
    "    index_offset = np.arange(num_labels) * num_classes\n",
    "    #遍历矩阵，为每个类别的位置填充1\n",
    "    labels_one_hot.flat[index_offset + labels] = 1\n",
    "    return labels_one_hot"
   ]
  },
  {
   "cell_type": "code",
   "execution_count": 252,
   "metadata": {},
   "outputs": [
    {
     "ename": "IndexError",
     "evalue": "index 14 is out of bounds for size 12",
     "output_type": "error",
     "traceback": [
      "\u001b[1;31m---------------------------------------------------------------------------\u001b[0m",
      "\u001b[1;31mIndexError\u001b[0m                                Traceback (most recent call last)",
      "\u001b[1;32m<ipython-input-252-7db8e1985624>\u001b[0m in \u001b[0;36m<module>\u001b[1;34m()\u001b[0m\n\u001b[0;32m      1\u001b[0m \u001b[0mb\u001b[0m \u001b[1;33m=\u001b[0m \u001b[1;33m[\u001b[0m\u001b[1;36m2\u001b[0m\u001b[1;33m,\u001b[0m \u001b[1;36m4\u001b[0m\u001b[1;33m,\u001b[0m \u001b[1;36m6\u001b[0m\u001b[1;33m]\u001b[0m\u001b[1;33m\u001b[0m\u001b[0m\n\u001b[1;32m----> 2\u001b[1;33m \u001b[0mprint\u001b[0m\u001b[1;33m(\u001b[0m\u001b[0mconvert_to_one_hot\u001b[0m\u001b[1;33m(\u001b[0m\u001b[0mb\u001b[0m\u001b[1;33m,\u001b[0m\u001b[1;36m4\u001b[0m\u001b[1;33m)\u001b[0m\u001b[1;33m)\u001b[0m\u001b[1;33m\u001b[0m\u001b[0m\n\u001b[0m",
      "\u001b[1;32m<ipython-input-247-eebb70f0daad>\u001b[0m in \u001b[0;36mconvert_to_one_hot\u001b[1;34m(labels, num_classes)\u001b[0m\n\u001b[0;32m      8\u001b[0m     \u001b[0mindex_offset\u001b[0m \u001b[1;33m=\u001b[0m \u001b[0mnp\u001b[0m\u001b[1;33m.\u001b[0m\u001b[0marange\u001b[0m\u001b[1;33m(\u001b[0m\u001b[0mnum_labels\u001b[0m\u001b[1;33m)\u001b[0m \u001b[1;33m*\u001b[0m \u001b[0mnum_classes\u001b[0m\u001b[1;33m\u001b[0m\u001b[0m\n\u001b[0;32m      9\u001b[0m     \u001b[1;31m#遍历矩阵，为每个类别的位置填充1\u001b[0m\u001b[1;33m\u001b[0m\u001b[1;33m\u001b[0m\u001b[0m\n\u001b[1;32m---> 10\u001b[1;33m     \u001b[0mlabels_one_hot\u001b[0m\u001b[1;33m.\u001b[0m\u001b[0mflat\u001b[0m\u001b[1;33m[\u001b[0m\u001b[0mindex_offset\u001b[0m \u001b[1;33m+\u001b[0m \u001b[0mlabels\u001b[0m\u001b[1;33m]\u001b[0m \u001b[1;33m=\u001b[0m \u001b[1;36m1\u001b[0m\u001b[1;33m\u001b[0m\u001b[0m\n\u001b[0m\u001b[0;32m     11\u001b[0m     \u001b[1;32mreturn\u001b[0m \u001b[0mlabels_one_hot\u001b[0m\u001b[1;33m\u001b[0m\u001b[0m\n",
      "\u001b[1;31mIndexError\u001b[0m: index 14 is out of bounds for size 12"
     ]
    }
   ],
   "source": [
    "b = [2, 4, 6]\n",
    "print(convert_to_one_hot(b,4))"
   ]
  },
  {
   "cell_type": "code",
   "execution_count": 306,
   "metadata": {},
   "outputs": [],
   "source": [
    "def read_file_cut(filename):\n",
    "#     label = re.findall('(\\d)',filename.split('\\\\')[-1])\n",
    "#     if len(label) < 4:\n",
    "#         return\n",
    "    base_dir=r'E:\\git\\image_recognise\\xinyonghubei\\cut'\n",
    "    im=cv2.imread(filename)\n",
    "    if im is None:\n",
    "        return\n",
    "    rows, cols, ch = im.shape\n",
    "    im_gray = cv2.cvtColor(im, cv2.COLOR_BGR2GRAY)\n",
    "    ret, im_inv = cv2.threshold(im_gray,220,255,cv2.THRESH_BINARY_INV)\n",
    "    new_im = cv2.GaussianBlur(im_inv,(3,3),0)\n",
    "    ret, im_inv = cv2.threshold(im_gray,220,255,cv2.THRESH_BINARY_INV)\n",
    "    im2, contours, hierarchy = cv2.findContours(im_inv, cv2.RETR_EXTERNAL, cv2.CHAIN_APPROX_SIMPLE)\n",
    "    boxes=get_rect_box(contours)\n",
    "    if len(boxes)!=4:\n",
    "        return\n",
    "    for index,box in enumerate(boxes):\n",
    "        roi = im_inv[:, box[0][0]:box[1][0]]\n",
    "        new_i=cv2.resize(roi,(20,35))\n",
    "        ret, new_i = cv2.threshold(new_i,1,255,cv2.THRESH_BINARY_INV)\n",
    "\n",
    "    #     plt.figure(figsize=(10,10))\n",
    "    #     plt.subplot(1,4,index+1)\n",
    "    #     plt.imshow(new_i)\n",
    "    #     t=time.time()\n",
    "#         folder=os.path.join(base_dir,label[index])\n",
    "        file = os.path.join(base_dir,'{}{}.jpg'.format(int(time.time()*1000),str(random.randint(1,10000))))\n",
    "        cv2.imwrite(file,new_i)"
   ]
  },
  {
   "cell_type": "code",
   "execution_count": 307,
   "metadata": {},
   "outputs": [],
   "source": [
    "import re\n",
    "import os\n",
    "import random\n",
    "base_dir = r'E:\\git\\image_recognise\\xinyonghubei\\cut'\n",
    "for filename in os.listdir(base_dir):\n",
    "    read_file_cut(os.path.join(base_dir,filename))\n"
   ]
  },
  {
   "cell_type": "code",
   "execution_count": 384,
   "metadata": {
    "scrolled": false
   },
   "outputs": [
    {
     "name": "stdout",
     "output_type": "stream",
     "text": [
      "2784"
     ]
    }
   ],
   "source": [
    "# 用来预测\n",
    "base_dir=r'E:\\git\\image_recognise\\xinyonghubei\\data'\n",
    "filename=r'E:\\git\\image_recognise\\xinyonghubei\\data\\5165.jpg'\n",
    "im=cv2.imread(filename)\n",
    "\n",
    "rows, cols, ch = im.shape\n",
    "im_gray = cv2.cvtColor(im, cv2.COLOR_BGR2GRAY)\n",
    "ret, im_inv = cv2.threshold(im_gray,220,255,cv2.THRESH_BINARY_INV)\n",
    "new_im = cv2.GaussianBlur(im_inv,(3,3),0)\n",
    "ret, im_inv = cv2.threshold(im_gray,220,255,cv2.THRESH_BINARY_INV)\n",
    "im2, contours, hierarchy = cv2.findContours(im_inv, cv2.RETR_EXTERNAL, cv2.CHAIN_APPROX_SIMPLE)\n",
    "boxes=get_rect_box(contours)\n",
    "\n",
    "for index,box in enumerate(boxes):\n",
    "    roi = im_inv[:, box[0][0]:box[1][0]]\n",
    "    new_i=cv2.resize(roi,(20,35))\n",
    "    ret, new_i = cv2.threshold(new_i,1,255,cv2.THRESH_BINARY_INV)\n",
    "#     print(new_i)\n",
    "#     plt.figure(figsize=(10,10))\n",
    "#     plt.subplot(1,4,index+1)\n",
    "#     plt.imshow(new_i)\n",
    "#     t=time.time()\n",
    "#         folder=os.path.join(base_dir,label[index])\n",
    "    file = os.path.join(base_dir,'{}.jpg'.format(index))\n",
    "    cv2.imwrite(file,new_i)\n",
    "    pil_img = Image.open(file).convert('L')\n",
    "    w,h=pil_img.size\n",
    "    data_list=[]\n",
    "    pixels = list(pil_img.getdata())\n",
    "    data_list.append(pixels)\n",
    "    np_datalist=np.array(data_list)\n",
    "    np_datalist=np_datalist.reshape(1,h,w)\n",
    "#     X_train,X_test,y_train,y_test = train_test_split(X,y,test_size=0.2)\n",
    "    X_train_4Ds = np_datalist.reshape(np_datalist.shape[0],h,w,1).astype('float32')\n",
    "# X_test_4D = X_test.reshape(X_test.shape[0],85,35,1).astype('float32')\n",
    "    X_train_4Ds=X_train_4Ds/255\n",
    "    ret=model.predict_classes(X_train_4Ds)\n",
    "    print(ret[0],end='')\n",
    "    "
   ]
  },
  {
   "cell_type": "code",
   "execution_count": 358,
   "metadata": {},
   "outputs": [],
   "source": [
    "p_img=Image.open(r'E:\\git\\image_recognise\\xinyonghubei\\data\\0.jpg').convert('L')"
   ]
  },
  {
   "cell_type": "code",
   "execution_count": 385,
   "metadata": {},
   "outputs": [],
   "source": [
    "model.save('hubei.h5')"
   ]
  },
  {
   "cell_type": "code",
   "execution_count": 359,
   "metadata": {},
   "outputs": [],
   "source": [
    "pixels = list(p_img.getdata())"
   ]
  },
  {
   "cell_type": "code",
   "execution_count": 360,
   "metadata": {},
   "outputs": [
    {
     "data": {
      "text/plain": [
       "[254,\n",
       " 255,\n",
       " 251,\n",
       " 255,\n",
       " 255,\n",
       " 255,\n",
       " 253,\n",
       " 255,\n",
       " 255,\n",
       " 252,\n",
       " 255,\n",
       " 253,\n",
       " 255,\n",
       " 255,\n",
       " 255,\n",
       " 255,\n",
       " 255,\n",
       " 254,\n",
       " 255,\n",
       " 254,\n",
       " 255,\n",
       " 250,\n",
       " 255,\n",
       " 254,\n",
       " 252,\n",
       " 255,\n",
       " 255,\n",
       " 255,\n",
       " 255,\n",
       " 255,\n",
       " 253,\n",
       " 3,\n",
       " 0,\n",
       " 0,\n",
       " 2,\n",
       " 0,\n",
       " 0,\n",
       " 4,\n",
       " 0,\n",
       " 255,\n",
       " 255,\n",
       " 255,\n",
       " 251,\n",
       " 255,\n",
       " 255,\n",
       " 255,\n",
       " 252,\n",
       " 0,\n",
       " 0,\n",
       " 2,\n",
       " 0,\n",
       " 0,\n",
       " 0,\n",
       " 251,\n",
       " 255,\n",
       " 255,\n",
       " 255,\n",
       " 0,\n",
       " 0,\n",
       " 4,\n",
       " 252,\n",
       " 254,\n",
       " 255,\n",
       " 253,\n",
       " 255,\n",
       " 254,\n",
       " 255,\n",
       " 0,\n",
       " 0,\n",
       " 2,\n",
       " 0,\n",
       " 252,\n",
       " 255,\n",
       " 255,\n",
       " 255,\n",
       " 251,\n",
       " 255,\n",
       " 254,\n",
       " 0,\n",
       " 1,\n",
       " 255,\n",
       " 253,\n",
       " 255,\n",
       " 254,\n",
       " 253,\n",
       " 255,\n",
       " 0,\n",
       " 1,\n",
       " 1,\n",
       " 0,\n",
       " 1,\n",
       " 255,\n",
       " 253,\n",
       " 254,\n",
       " 255,\n",
       " 255,\n",
       " 255,\n",
       " 254,\n",
       " 255,\n",
       " 250,\n",
       " 252,\n",
       " 255,\n",
       " 253,\n",
       " 254,\n",
       " 255,\n",
       " 253,\n",
       " 0,\n",
       " 0,\n",
       " 0,\n",
       " 0,\n",
       " 254,\n",
       " 255,\n",
       " 255,\n",
       " 252,\n",
       " 253,\n",
       " 254,\n",
       " 253,\n",
       " 255,\n",
       " 255,\n",
       " 255,\n",
       " 254,\n",
       " 255,\n",
       " 255,\n",
       " 253,\n",
       " 255,\n",
       " 253,\n",
       " 255,\n",
       " 255,\n",
       " 255,\n",
       " 251,\n",
       " 255,\n",
       " 252,\n",
       " 254,\n",
       " 255,\n",
       " 255,\n",
       " 254,\n",
       " 255,\n",
       " 254,\n",
       " 0,\n",
       " 0,\n",
       " 255,\n",
       " 254,\n",
       " 255,\n",
       " 255,\n",
       " 255,\n",
       " 254,\n",
       " 255,\n",
       " 255,\n",
       " 254,\n",
       " 255,\n",
       " 255,\n",
       " 253,\n",
       " 255,\n",
       " 255,\n",
       " 253,\n",
       " 255,\n",
       " 255,\n",
       " 255,\n",
       " 0,\n",
       " 0,\n",
       " 255,\n",
       " 254,\n",
       " 254,\n",
       " 255,\n",
       " 255,\n",
       " 255,\n",
       " 255,\n",
       " 254,\n",
       " 254,\n",
       " 255,\n",
       " 252,\n",
       " 254,\n",
       " 254,\n",
       " 255,\n",
       " 254,\n",
       " 254,\n",
       " 255,\n",
       " 0,\n",
       " 2,\n",
       " 0,\n",
       " 253,\n",
       " 255,\n",
       " 255,\n",
       " 255,\n",
       " 250,\n",
       " 255,\n",
       " 254,\n",
       " 0,\n",
       " 0,\n",
       " 0,\n",
       " 0,\n",
       " 3,\n",
       " 0,\n",
       " 254,\n",
       " 0,\n",
       " 3,\n",
       " 0,\n",
       " 3,\n",
       " 0,\n",
       " 2,\n",
       " 254,\n",
       " 255,\n",
       " 252,\n",
       " 254,\n",
       " 255,\n",
       " 252,\n",
       " 255,\n",
       " 0,\n",
       " 2,\n",
       " 0,\n",
       " 1,\n",
       " 0,\n",
       " 1,\n",
       " 3,\n",
       " 4,\n",
       " 0,\n",
       " 3,\n",
       " 252,\n",
       " 255,\n",
       " 253,\n",
       " 255,\n",
       " 255,\n",
       " 255,\n",
       " 254,\n",
       " 255,\n",
       " 255,\n",
       " 254,\n",
       " 255,\n",
       " 255,\n",
       " 253,\n",
       " 255,\n",
       " 255,\n",
       " 252,\n",
       " 0,\n",
       " 0,\n",
       " 0,\n",
       " 0,\n",
       " 255,\n",
       " 252,\n",
       " 255,\n",
       " 254,\n",
       " 0,\n",
       " 0,\n",
       " 255,\n",
       " 255,\n",
       " 255,\n",
       " 252,\n",
       " 254,\n",
       " 255,\n",
       " 254,\n",
       " 255,\n",
       " 255,\n",
       " 254,\n",
       " 255,\n",
       " 1,\n",
       " 2,\n",
       " 0,\n",
       " 0,\n",
       " 254,\n",
       " 255,\n",
       " 3,\n",
       " 0,\n",
       " 3,\n",
       " 0,\n",
       " 0,\n",
       " 255,\n",
       " 254,\n",
       " 255,\n",
       " 254,\n",
       " 255,\n",
       " 253,\n",
       " 253,\n",
       " 255,\n",
       " 254,\n",
       " 0,\n",
       " 0,\n",
       " 0,\n",
       " 1,\n",
       " 254,\n",
       " 255,\n",
       " 0,\n",
       " 2,\n",
       " 0,\n",
       " 254,\n",
       " 255,\n",
       " 255,\n",
       " 253,\n",
       " 255,\n",
       " 255,\n",
       " 252,\n",
       " 255,\n",
       " 255,\n",
       " 255,\n",
       " 255,\n",
       " 2,\n",
       " 0,\n",
       " 1,\n",
       " 1,\n",
       " 254,\n",
       " 253,\n",
       " 1,\n",
       " 0,\n",
       " 3,\n",
       " 255,\n",
       " 254,\n",
       " 255,\n",
       " 255,\n",
       " 255,\n",
       " 255,\n",
       " 255,\n",
       " 254,\n",
       " 254,\n",
       " 255,\n",
       " 253,\n",
       " 2,\n",
       " 0,\n",
       " 0,\n",
       " 0,\n",
       " 255,\n",
       " 255,\n",
       " 0,\n",
       " 0,\n",
       " 0,\n",
       " 255,\n",
       " 255,\n",
       " 255,\n",
       " 253,\n",
       " 255,\n",
       " 255,\n",
       " 255,\n",
       " 255,\n",
       " 255,\n",
       " 255,\n",
       " 0,\n",
       " 0,\n",
       " 0,\n",
       " 0,\n",
       " 0,\n",
       " 253,\n",
       " 255,\n",
       " 255,\n",
       " 2,\n",
       " 3,\n",
       " 0,\n",
       " 0,\n",
       " 251,\n",
       " 255,\n",
       " 255,\n",
       " 255,\n",
       " 254,\n",
       " 255,\n",
       " 2,\n",
       " 0,\n",
       " 0,\n",
       " 4,\n",
       " 0,\n",
       " 0,\n",
       " 255,\n",
       " 255,\n",
       " 255,\n",
       " 254,\n",
       " 254,\n",
       " 0,\n",
       " 0,\n",
       " 3,\n",
       " 3,\n",
       " 0,\n",
       " 0,\n",
       " 0,\n",
       " 1,\n",
       " 0,\n",
       " 1,\n",
       " 2,\n",
       " 0,\n",
       " 0,\n",
       " 255,\n",
       " 255,\n",
       " 252,\n",
       " 254,\n",
       " 255,\n",
       " 255,\n",
       " 255,\n",
       " 254,\n",
       " 255,\n",
       " 254,\n",
       " 253,\n",
       " 3,\n",
       " 0,\n",
       " 0,\n",
       " 0,\n",
       " 1,\n",
       " 0,\n",
       " 0,\n",
       " 255,\n",
       " 255,\n",
       " 254,\n",
       " 255,\n",
       " 255,\n",
       " 254,\n",
       " 255,\n",
       " 255,\n",
       " 249,\n",
       " 255,\n",
       " 255,\n",
       " 255,\n",
       " 253,\n",
       " 255,\n",
       " 254,\n",
       " 255,\n",
       " 255,\n",
       " 255,\n",
       " 255,\n",
       " 254,\n",
       " 254,\n",
       " 252,\n",
       " 255,\n",
       " 254,\n",
       " 255,\n",
       " 255,\n",
       " 255,\n",
       " 254,\n",
       " 255,\n",
       " 252,\n",
       " 255,\n",
       " 254,\n",
       " 254,\n",
       " 254,\n",
       " 255,\n",
       " 250,\n",
       " 255,\n",
       " 252,\n",
       " 255,\n",
       " 255,\n",
       " 255,\n",
       " 255,\n",
       " 253,\n",
       " 255,\n",
       " 255,\n",
       " 254,\n",
       " 254,\n",
       " 252,\n",
       " 255,\n",
       " 253,\n",
       " 255,\n",
       " 254,\n",
       " 254,\n",
       " 255,\n",
       " 252,\n",
       " 255,\n",
       " 253,\n",
       " 255,\n",
       " 251,\n",
       " 254,\n",
       " 253,\n",
       " 255,\n",
       " 254,\n",
       " 255,\n",
       " 255,\n",
       " 255,\n",
       " 255,\n",
       " 255,\n",
       " 255,\n",
       " 255,\n",
       " 253,\n",
       " 255,\n",
       " 255,\n",
       " 254,\n",
       " 255,\n",
       " 255,\n",
       " 255,\n",
       " 255,\n",
       " 255,\n",
       " 254,\n",
       " 255,\n",
       " 252,\n",
       " 255,\n",
       " 255,\n",
       " 255,\n",
       " 254,\n",
       " 255,\n",
       " 255,\n",
       " 255,\n",
       " 255,\n",
       " 255,\n",
       " 255,\n",
       " 255,\n",
       " 255,\n",
       " 255,\n",
       " 255,\n",
       " 255,\n",
       " 255,\n",
       " 255,\n",
       " 255,\n",
       " 255,\n",
       " 255,\n",
       " 255,\n",
       " 255,\n",
       " 255,\n",
       " 255,\n",
       " 255,\n",
       " 255,\n",
       " 255,\n",
       " 255,\n",
       " 255,\n",
       " 255,\n",
       " 255,\n",
       " 255,\n",
       " 255,\n",
       " 255,\n",
       " 255,\n",
       " 255,\n",
       " 255,\n",
       " 255,\n",
       " 255,\n",
       " 255,\n",
       " 255,\n",
       " 255,\n",
       " 255,\n",
       " 255,\n",
       " 255,\n",
       " 255,\n",
       " 255,\n",
       " 255,\n",
       " 255,\n",
       " 255,\n",
       " 255,\n",
       " 255,\n",
       " 255,\n",
       " 255,\n",
       " 255,\n",
       " 255,\n",
       " 255,\n",
       " 255,\n",
       " 255,\n",
       " 255,\n",
       " 255,\n",
       " 255,\n",
       " 255,\n",
       " 255,\n",
       " 255,\n",
       " 255,\n",
       " 255,\n",
       " 255,\n",
       " 255,\n",
       " 255,\n",
       " 255,\n",
       " 255,\n",
       " 255,\n",
       " 255,\n",
       " 255,\n",
       " 255,\n",
       " 255,\n",
       " 255,\n",
       " 255,\n",
       " 255,\n",
       " 255,\n",
       " 255,\n",
       " 255,\n",
       " 255,\n",
       " 255,\n",
       " 255,\n",
       " 255,\n",
       " 255,\n",
       " 255,\n",
       " 255,\n",
       " 255,\n",
       " 255,\n",
       " 255,\n",
       " 255,\n",
       " 255,\n",
       " 255,\n",
       " 255,\n",
       " 255,\n",
       " 255,\n",
       " 255,\n",
       " 255,\n",
       " 255,\n",
       " 255,\n",
       " 255,\n",
       " 255,\n",
       " 255,\n",
       " 255,\n",
       " 255,\n",
       " 255,\n",
       " 255,\n",
       " 255,\n",
       " 255,\n",
       " 255,\n",
       " 255,\n",
       " 255,\n",
       " 255,\n",
       " 255,\n",
       " 255,\n",
       " 255,\n",
       " 255,\n",
       " 255,\n",
       " 255,\n",
       " 255,\n",
       " 255,\n",
       " 255,\n",
       " 255,\n",
       " 255,\n",
       " 255,\n",
       " 255,\n",
       " 255,\n",
       " 255,\n",
       " 255,\n",
       " 255,\n",
       " 255,\n",
       " 255,\n",
       " 255,\n",
       " 255,\n",
       " 255,\n",
       " 255,\n",
       " 255,\n",
       " 255,\n",
       " 255,\n",
       " 255,\n",
       " 255,\n",
       " 255,\n",
       " 255,\n",
       " 255,\n",
       " 255,\n",
       " 255,\n",
       " 255,\n",
       " 255,\n",
       " 255,\n",
       " 255,\n",
       " 255,\n",
       " 255,\n",
       " 255,\n",
       " 255,\n",
       " 255,\n",
       " 255,\n",
       " 255,\n",
       " 255,\n",
       " 255,\n",
       " 255,\n",
       " 255,\n",
       " 255,\n",
       " 255,\n",
       " 255,\n",
       " 255,\n",
       " 255,\n",
       " 255,\n",
       " 255,\n",
       " 255,\n",
       " 255,\n",
       " 255,\n",
       " 255,\n",
       " 255,\n",
       " 255,\n",
       " 255,\n",
       " 255,\n",
       " 255,\n",
       " 255,\n",
       " 255,\n",
       " 255,\n",
       " 255,\n",
       " 255,\n",
       " 255,\n",
       " 255,\n",
       " 255,\n",
       " 255,\n",
       " 255,\n",
       " 255,\n",
       " 255,\n",
       " 255,\n",
       " 255,\n",
       " 255,\n",
       " 255,\n",
       " 255,\n",
       " 255,\n",
       " 255,\n",
       " 255,\n",
       " 255,\n",
       " 255,\n",
       " 255,\n",
       " 255,\n",
       " 255,\n",
       " 255,\n",
       " 255,\n",
       " 255,\n",
       " 255,\n",
       " 255,\n",
       " 255,\n",
       " 255,\n",
       " 255,\n",
       " 255,\n",
       " 255,\n",
       " 255,\n",
       " 255,\n",
       " 255,\n",
       " 255,\n",
       " 255,\n",
       " 255,\n",
       " 255,\n",
       " 255,\n",
       " 255,\n",
       " 255]"
      ]
     },
     "execution_count": 360,
     "metadata": {},
     "output_type": "execute_result"
    }
   ],
   "source": [
    "pixels"
   ]
  },
  {
   "cell_type": "code",
   "execution_count": 361,
   "metadata": {},
   "outputs": [],
   "source": [
    "xp=np.array(pixels)"
   ]
  },
  {
   "cell_type": "code",
   "execution_count": 362,
   "metadata": {},
   "outputs": [],
   "source": [
    "xp=xp.reshape(h,w)"
   ]
  },
  {
   "cell_type": "code",
   "execution_count": 363,
   "metadata": {},
   "outputs": [
    {
     "data": {
      "text/plain": [
       "array([[254, 255, 251, 255, 255, 255, 253, 255, 255, 252, 255, 253, 255,\n",
       "        255, 255, 255, 255, 254, 255, 254],\n",
       "       [255, 250, 255, 254, 252, 255, 255, 255, 255, 255, 253,   3,   0,\n",
       "          0,   2,   0,   0,   4,   0, 255],\n",
       "       [255, 255, 251, 255, 255, 255, 252,   0,   0,   2,   0,   0,   0,\n",
       "        251, 255, 255, 255,   0,   0,   4],\n",
       "       [252, 254, 255, 253, 255, 254, 255,   0,   0,   2,   0, 252, 255,\n",
       "        255, 255, 251, 255, 254,   0,   1],\n",
       "       [255, 253, 255, 254, 253, 255,   0,   1,   1,   0,   1, 255, 253,\n",
       "        254, 255, 255, 255, 254, 255, 250],\n",
       "       [252, 255, 253, 254, 255, 253,   0,   0,   0,   0, 254, 255, 255,\n",
       "        252, 253, 254, 253, 255, 255, 255],\n",
       "       [254, 255, 255, 253, 255, 253, 255, 255, 255, 251, 255, 252, 254,\n",
       "        255, 255, 254, 255, 254,   0,   0],\n",
       "       [255, 254, 255, 255, 255, 254, 255, 255, 254, 255, 255, 253, 255,\n",
       "        255, 253, 255, 255, 255,   0,   0],\n",
       "       [255, 254, 254, 255, 255, 255, 255, 254, 254, 255, 252, 254, 254,\n",
       "        255, 254, 254, 255,   0,   2,   0],\n",
       "       [253, 255, 255, 255, 250, 255, 254,   0,   0,   0,   0,   3,   0,\n",
       "        254,   0,   3,   0,   3,   0,   2],\n",
       "       [254, 255, 252, 254, 255, 252, 255,   0,   2,   0,   1,   0,   1,\n",
       "          3,   4,   0,   3, 252, 255, 253],\n",
       "       [255, 255, 255, 254, 255, 255, 254, 255, 255, 253, 255, 255, 252,\n",
       "          0,   0,   0,   0, 255, 252, 255],\n",
       "       [254,   0,   0, 255, 255, 255, 252, 254, 255, 254, 255, 255, 254,\n",
       "        255,   1,   2,   0,   0, 254, 255],\n",
       "       [  3,   0,   3,   0,   0, 255, 254, 255, 254, 255, 253, 253, 255,\n",
       "        254,   0,   0,   0,   1, 254, 255],\n",
       "       [  0,   2,   0, 254, 255, 255, 253, 255, 255, 252, 255, 255, 255,\n",
       "        255,   2,   0,   1,   1, 254, 253],\n",
       "       [  1,   0,   3, 255, 254, 255, 255, 255, 255, 255, 254, 254, 255,\n",
       "        253,   2,   0,   0,   0, 255, 255],\n",
       "       [  0,   0,   0, 255, 255, 255, 253, 255, 255, 255, 255, 255, 255,\n",
       "          0,   0,   0,   0,   0, 253, 255],\n",
       "       [255,   2,   3,   0,   0, 251, 255, 255, 255, 254, 255,   2,   0,\n",
       "          0,   4,   0,   0, 255, 255, 255],\n",
       "       [254, 254,   0,   0,   3,   3,   0,   0,   0,   1,   0,   1,   2,\n",
       "          0,   0, 255, 255, 252, 254, 255],\n",
       "       [255, 255, 254, 255, 254, 253,   3,   0,   0,   0,   1,   0,   0,\n",
       "        255, 255, 254, 255, 255, 254, 255],\n",
       "       [255, 249, 255, 255, 255, 253, 255, 254, 255, 255, 255, 255, 254,\n",
       "        254, 252, 255, 254, 255, 255, 255],\n",
       "       [254, 255, 252, 255, 254, 254, 254, 255, 250, 255, 252, 255, 255,\n",
       "        255, 255, 253, 255, 255, 254, 254],\n",
       "       [252, 255, 253, 255, 254, 254, 255, 252, 255, 253, 255, 251, 254,\n",
       "        253, 255, 254, 255, 255, 255, 255],\n",
       "       [255, 255, 255, 253, 255, 255, 254, 255, 255, 255, 255, 255, 254,\n",
       "        255, 252, 255, 255, 255, 254, 255],\n",
       "       [255, 255, 255, 255, 255, 255, 255, 255, 255, 255, 255, 255, 255,\n",
       "        255, 255, 255, 255, 255, 255, 255],\n",
       "       [255, 255, 255, 255, 255, 255, 255, 255, 255, 255, 255, 255, 255,\n",
       "        255, 255, 255, 255, 255, 255, 255],\n",
       "       [255, 255, 255, 255, 255, 255, 255, 255, 255, 255, 255, 255, 255,\n",
       "        255, 255, 255, 255, 255, 255, 255],\n",
       "       [255, 255, 255, 255, 255, 255, 255, 255, 255, 255, 255, 255, 255,\n",
       "        255, 255, 255, 255, 255, 255, 255],\n",
       "       [255, 255, 255, 255, 255, 255, 255, 255, 255, 255, 255, 255, 255,\n",
       "        255, 255, 255, 255, 255, 255, 255],\n",
       "       [255, 255, 255, 255, 255, 255, 255, 255, 255, 255, 255, 255, 255,\n",
       "        255, 255, 255, 255, 255, 255, 255],\n",
       "       [255, 255, 255, 255, 255, 255, 255, 255, 255, 255, 255, 255, 255,\n",
       "        255, 255, 255, 255, 255, 255, 255],\n",
       "       [255, 255, 255, 255, 255, 255, 255, 255, 255, 255, 255, 255, 255,\n",
       "        255, 255, 255, 255, 255, 255, 255],\n",
       "       [255, 255, 255, 255, 255, 255, 255, 255, 255, 255, 255, 255, 255,\n",
       "        255, 255, 255, 255, 255, 255, 255],\n",
       "       [255, 255, 255, 255, 255, 255, 255, 255, 255, 255, 255, 255, 255,\n",
       "        255, 255, 255, 255, 255, 255, 255],\n",
       "       [255, 255, 255, 255, 255, 255, 255, 255, 255, 255, 255, 255, 255,\n",
       "        255, 255, 255, 255, 255, 255, 255]])"
      ]
     },
     "execution_count": 363,
     "metadata": {},
     "output_type": "execute_result"
    }
   ],
   "source": [
    "xp"
   ]
  },
  {
   "cell_type": "code",
   "execution_count": null,
   "metadata": {},
   "outputs": [],
   "source": []
  }
 ],
 "metadata": {
  "kernelspec": {
   "display_name": "Python 3",
   "language": "python",
   "name": "python3"
  },
  "language_info": {
   "codemirror_mode": {
    "name": "ipython",
    "version": 3
   },
   "file_extension": ".py",
   "mimetype": "text/x-python",
   "name": "python",
   "nbconvert_exporter": "python",
   "pygments_lexer": "ipython3",
   "version": "3.6.2"
  }
 },
 "nbformat": 4,
 "nbformat_minor": 2
}
